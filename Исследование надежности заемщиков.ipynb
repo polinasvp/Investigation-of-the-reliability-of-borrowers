{
 "cells": [
  {
   "cell_type": "markdown",
   "id": "410d8364",
   "metadata": {
    "deletable": false,
    "editable": false,
    "id": "c81daeeb"
   },
   "source": [
    "# Исследование надежности заемщиков\n"
   ]
  },
  {
   "cell_type": "markdown",
   "id": "2de5c3a0",
   "metadata": {
    "deletable": false,
    "editable": false,
    "id": "827c20bf"
   },
   "source": [
    "Во второй части проекта вы выполните шаги 3 и 4. Их вручную проверит ревьюер.\n",
    "Чтобы вам не пришлось писать код заново для шагов 1 и 2, мы добавили авторские решения в ячейки с кодом. \n",
    "\n"
   ]
  },
  {
   "cell_type": "markdown",
   "id": "ce8e2692",
   "metadata": {
    "deletable": false,
    "editable": false,
    "id": "744d7639"
   },
   "source": [
    "## Откройте таблицу и изучите общую информацию о данных"
   ]
  },
  {
   "cell_type": "markdown",
   "id": "221a2e83",
   "metadata": {
    "deletable": false,
    "editable": false,
    "id": "e7a14c31"
   },
   "source": [
    "**Задание 1. Импортируйте библиотеку pandas. Считайте данные из csv-файла в датафрейм и сохраните в переменную `data`. Путь к файлу:**\n",
    "\n",
    "`/datasets/data.csv`"
   ]
  },
  {
   "cell_type": "code",
   "execution_count": 1,
   "id": "fa89758f",
   "metadata": {
    "deletable": false,
    "id": "7bcf75c9"
   },
   "outputs": [],
   "source": [
    "import pandas as pd\n",
    "\n",
    "try:\n",
    "    data = pd.read_csv('/datasets/data.csv')\n",
    "except:\n",
    "    data = pd.read_csv('https://code.s3.yandex.net/datasets/data.csv')"
   ]
  },
  {
   "cell_type": "markdown",
   "id": "fdd43725",
   "metadata": {
    "deletable": false,
    "editable": false,
    "id": "b8038fe3"
   },
   "source": [
    "**Задание 2. Выведите первые 20 строчек датафрейма `data` на экран.**"
   ]
  },
  {
   "cell_type": "code",
   "execution_count": 2,
   "id": "27ba5218",
   "metadata": {
    "deletable": false,
    "id": "2a7cab99",
    "outputId": "1a8f3ef2-d323-4ec2-ddf7-89670b5944c4"
   },
   "outputs": [
    {
     "data": {
      "text/html": [
       "<div>\n",
       "<style scoped>\n",
       "    .dataframe tbody tr th:only-of-type {\n",
       "        vertical-align: middle;\n",
       "    }\n",
       "\n",
       "    .dataframe tbody tr th {\n",
       "        vertical-align: top;\n",
       "    }\n",
       "\n",
       "    .dataframe thead th {\n",
       "        text-align: right;\n",
       "    }\n",
       "</style>\n",
       "<table border=\"1\" class=\"dataframe\">\n",
       "  <thead>\n",
       "    <tr style=\"text-align: right;\">\n",
       "      <th></th>\n",
       "      <th>children</th>\n",
       "      <th>days_employed</th>\n",
       "      <th>dob_years</th>\n",
       "      <th>education</th>\n",
       "      <th>education_id</th>\n",
       "      <th>family_status</th>\n",
       "      <th>family_status_id</th>\n",
       "      <th>gender</th>\n",
       "      <th>income_type</th>\n",
       "      <th>debt</th>\n",
       "      <th>total_income</th>\n",
       "      <th>purpose</th>\n",
       "    </tr>\n",
       "  </thead>\n",
       "  <tbody>\n",
       "    <tr>\n",
       "      <th>0</th>\n",
       "      <td>1</td>\n",
       "      <td>-8437.673028</td>\n",
       "      <td>42</td>\n",
       "      <td>высшее</td>\n",
       "      <td>0</td>\n",
       "      <td>женат / замужем</td>\n",
       "      <td>0</td>\n",
       "      <td>F</td>\n",
       "      <td>сотрудник</td>\n",
       "      <td>0</td>\n",
       "      <td>253875.639453</td>\n",
       "      <td>покупка жилья</td>\n",
       "    </tr>\n",
       "    <tr>\n",
       "      <th>1</th>\n",
       "      <td>1</td>\n",
       "      <td>-4024.803754</td>\n",
       "      <td>36</td>\n",
       "      <td>среднее</td>\n",
       "      <td>1</td>\n",
       "      <td>женат / замужем</td>\n",
       "      <td>0</td>\n",
       "      <td>F</td>\n",
       "      <td>сотрудник</td>\n",
       "      <td>0</td>\n",
       "      <td>112080.014102</td>\n",
       "      <td>приобретение автомобиля</td>\n",
       "    </tr>\n",
       "    <tr>\n",
       "      <th>2</th>\n",
       "      <td>0</td>\n",
       "      <td>-5623.422610</td>\n",
       "      <td>33</td>\n",
       "      <td>Среднее</td>\n",
       "      <td>1</td>\n",
       "      <td>женат / замужем</td>\n",
       "      <td>0</td>\n",
       "      <td>M</td>\n",
       "      <td>сотрудник</td>\n",
       "      <td>0</td>\n",
       "      <td>145885.952297</td>\n",
       "      <td>покупка жилья</td>\n",
       "    </tr>\n",
       "    <tr>\n",
       "      <th>3</th>\n",
       "      <td>3</td>\n",
       "      <td>-4124.747207</td>\n",
       "      <td>32</td>\n",
       "      <td>среднее</td>\n",
       "      <td>1</td>\n",
       "      <td>женат / замужем</td>\n",
       "      <td>0</td>\n",
       "      <td>M</td>\n",
       "      <td>сотрудник</td>\n",
       "      <td>0</td>\n",
       "      <td>267628.550329</td>\n",
       "      <td>дополнительное образование</td>\n",
       "    </tr>\n",
       "    <tr>\n",
       "      <th>4</th>\n",
       "      <td>0</td>\n",
       "      <td>340266.072047</td>\n",
       "      <td>53</td>\n",
       "      <td>среднее</td>\n",
       "      <td>1</td>\n",
       "      <td>гражданский брак</td>\n",
       "      <td>1</td>\n",
       "      <td>F</td>\n",
       "      <td>пенсионер</td>\n",
       "      <td>0</td>\n",
       "      <td>158616.077870</td>\n",
       "      <td>сыграть свадьбу</td>\n",
       "    </tr>\n",
       "    <tr>\n",
       "      <th>5</th>\n",
       "      <td>0</td>\n",
       "      <td>-926.185831</td>\n",
       "      <td>27</td>\n",
       "      <td>высшее</td>\n",
       "      <td>0</td>\n",
       "      <td>гражданский брак</td>\n",
       "      <td>1</td>\n",
       "      <td>M</td>\n",
       "      <td>компаньон</td>\n",
       "      <td>0</td>\n",
       "      <td>255763.565419</td>\n",
       "      <td>покупка жилья</td>\n",
       "    </tr>\n",
       "    <tr>\n",
       "      <th>6</th>\n",
       "      <td>0</td>\n",
       "      <td>-2879.202052</td>\n",
       "      <td>43</td>\n",
       "      <td>высшее</td>\n",
       "      <td>0</td>\n",
       "      <td>женат / замужем</td>\n",
       "      <td>0</td>\n",
       "      <td>F</td>\n",
       "      <td>компаньон</td>\n",
       "      <td>0</td>\n",
       "      <td>240525.971920</td>\n",
       "      <td>операции с жильем</td>\n",
       "    </tr>\n",
       "    <tr>\n",
       "      <th>7</th>\n",
       "      <td>0</td>\n",
       "      <td>-152.779569</td>\n",
       "      <td>50</td>\n",
       "      <td>СРЕДНЕЕ</td>\n",
       "      <td>1</td>\n",
       "      <td>женат / замужем</td>\n",
       "      <td>0</td>\n",
       "      <td>M</td>\n",
       "      <td>сотрудник</td>\n",
       "      <td>0</td>\n",
       "      <td>135823.934197</td>\n",
       "      <td>образование</td>\n",
       "    </tr>\n",
       "    <tr>\n",
       "      <th>8</th>\n",
       "      <td>2</td>\n",
       "      <td>-6929.865299</td>\n",
       "      <td>35</td>\n",
       "      <td>ВЫСШЕЕ</td>\n",
       "      <td>0</td>\n",
       "      <td>гражданский брак</td>\n",
       "      <td>1</td>\n",
       "      <td>F</td>\n",
       "      <td>сотрудник</td>\n",
       "      <td>0</td>\n",
       "      <td>95856.832424</td>\n",
       "      <td>на проведение свадьбы</td>\n",
       "    </tr>\n",
       "    <tr>\n",
       "      <th>9</th>\n",
       "      <td>0</td>\n",
       "      <td>-2188.756445</td>\n",
       "      <td>41</td>\n",
       "      <td>среднее</td>\n",
       "      <td>1</td>\n",
       "      <td>женат / замужем</td>\n",
       "      <td>0</td>\n",
       "      <td>M</td>\n",
       "      <td>сотрудник</td>\n",
       "      <td>0</td>\n",
       "      <td>144425.938277</td>\n",
       "      <td>покупка жилья для семьи</td>\n",
       "    </tr>\n",
       "    <tr>\n",
       "      <th>10</th>\n",
       "      <td>2</td>\n",
       "      <td>-4171.483647</td>\n",
       "      <td>36</td>\n",
       "      <td>высшее</td>\n",
       "      <td>0</td>\n",
       "      <td>женат / замужем</td>\n",
       "      <td>0</td>\n",
       "      <td>M</td>\n",
       "      <td>компаньон</td>\n",
       "      <td>0</td>\n",
       "      <td>113943.491460</td>\n",
       "      <td>покупка недвижимости</td>\n",
       "    </tr>\n",
       "    <tr>\n",
       "      <th>11</th>\n",
       "      <td>0</td>\n",
       "      <td>-792.701887</td>\n",
       "      <td>40</td>\n",
       "      <td>среднее</td>\n",
       "      <td>1</td>\n",
       "      <td>женат / замужем</td>\n",
       "      <td>0</td>\n",
       "      <td>F</td>\n",
       "      <td>сотрудник</td>\n",
       "      <td>0</td>\n",
       "      <td>77069.234271</td>\n",
       "      <td>покупка коммерческой недвижимости</td>\n",
       "    </tr>\n",
       "    <tr>\n",
       "      <th>12</th>\n",
       "      <td>0</td>\n",
       "      <td>NaN</td>\n",
       "      <td>65</td>\n",
       "      <td>среднее</td>\n",
       "      <td>1</td>\n",
       "      <td>гражданский брак</td>\n",
       "      <td>1</td>\n",
       "      <td>M</td>\n",
       "      <td>пенсионер</td>\n",
       "      <td>0</td>\n",
       "      <td>NaN</td>\n",
       "      <td>сыграть свадьбу</td>\n",
       "    </tr>\n",
       "    <tr>\n",
       "      <th>13</th>\n",
       "      <td>0</td>\n",
       "      <td>-1846.641941</td>\n",
       "      <td>54</td>\n",
       "      <td>неоконченное высшее</td>\n",
       "      <td>2</td>\n",
       "      <td>женат / замужем</td>\n",
       "      <td>0</td>\n",
       "      <td>F</td>\n",
       "      <td>сотрудник</td>\n",
       "      <td>0</td>\n",
       "      <td>130458.228857</td>\n",
       "      <td>приобретение автомобиля</td>\n",
       "    </tr>\n",
       "    <tr>\n",
       "      <th>14</th>\n",
       "      <td>0</td>\n",
       "      <td>-1844.956182</td>\n",
       "      <td>56</td>\n",
       "      <td>высшее</td>\n",
       "      <td>0</td>\n",
       "      <td>гражданский брак</td>\n",
       "      <td>1</td>\n",
       "      <td>F</td>\n",
       "      <td>компаньон</td>\n",
       "      <td>1</td>\n",
       "      <td>165127.911772</td>\n",
       "      <td>покупка жилой недвижимости</td>\n",
       "    </tr>\n",
       "    <tr>\n",
       "      <th>15</th>\n",
       "      <td>1</td>\n",
       "      <td>-972.364419</td>\n",
       "      <td>26</td>\n",
       "      <td>среднее</td>\n",
       "      <td>1</td>\n",
       "      <td>женат / замужем</td>\n",
       "      <td>0</td>\n",
       "      <td>F</td>\n",
       "      <td>сотрудник</td>\n",
       "      <td>0</td>\n",
       "      <td>116820.904450</td>\n",
       "      <td>строительство собственной недвижимости</td>\n",
       "    </tr>\n",
       "    <tr>\n",
       "      <th>16</th>\n",
       "      <td>0</td>\n",
       "      <td>-1719.934226</td>\n",
       "      <td>35</td>\n",
       "      <td>среднее</td>\n",
       "      <td>1</td>\n",
       "      <td>женат / замужем</td>\n",
       "      <td>0</td>\n",
       "      <td>F</td>\n",
       "      <td>сотрудник</td>\n",
       "      <td>0</td>\n",
       "      <td>289202.704229</td>\n",
       "      <td>недвижимость</td>\n",
       "    </tr>\n",
       "    <tr>\n",
       "      <th>17</th>\n",
       "      <td>0</td>\n",
       "      <td>-2369.999720</td>\n",
       "      <td>33</td>\n",
       "      <td>высшее</td>\n",
       "      <td>0</td>\n",
       "      <td>гражданский брак</td>\n",
       "      <td>1</td>\n",
       "      <td>M</td>\n",
       "      <td>сотрудник</td>\n",
       "      <td>0</td>\n",
       "      <td>90410.586745</td>\n",
       "      <td>строительство недвижимости</td>\n",
       "    </tr>\n",
       "    <tr>\n",
       "      <th>18</th>\n",
       "      <td>0</td>\n",
       "      <td>400281.136913</td>\n",
       "      <td>53</td>\n",
       "      <td>среднее</td>\n",
       "      <td>1</td>\n",
       "      <td>вдовец / вдова</td>\n",
       "      <td>2</td>\n",
       "      <td>F</td>\n",
       "      <td>пенсионер</td>\n",
       "      <td>0</td>\n",
       "      <td>56823.777243</td>\n",
       "      <td>на покупку подержанного автомобиля</td>\n",
       "    </tr>\n",
       "    <tr>\n",
       "      <th>19</th>\n",
       "      <td>0</td>\n",
       "      <td>-10038.818549</td>\n",
       "      <td>48</td>\n",
       "      <td>СРЕДНЕЕ</td>\n",
       "      <td>1</td>\n",
       "      <td>в разводе</td>\n",
       "      <td>3</td>\n",
       "      <td>F</td>\n",
       "      <td>сотрудник</td>\n",
       "      <td>0</td>\n",
       "      <td>242831.107982</td>\n",
       "      <td>на покупку своего автомобиля</td>\n",
       "    </tr>\n",
       "  </tbody>\n",
       "</table>\n",
       "</div>"
      ],
      "text/plain": [
       "    children  days_employed  dob_years            education  education_id  \\\n",
       "0          1   -8437.673028         42               высшее             0   \n",
       "1          1   -4024.803754         36              среднее             1   \n",
       "2          0   -5623.422610         33              Среднее             1   \n",
       "3          3   -4124.747207         32              среднее             1   \n",
       "4          0  340266.072047         53              среднее             1   \n",
       "5          0    -926.185831         27               высшее             0   \n",
       "6          0   -2879.202052         43               высшее             0   \n",
       "7          0    -152.779569         50              СРЕДНЕЕ             1   \n",
       "8          2   -6929.865299         35               ВЫСШЕЕ             0   \n",
       "9          0   -2188.756445         41              среднее             1   \n",
       "10         2   -4171.483647         36               высшее             0   \n",
       "11         0    -792.701887         40              среднее             1   \n",
       "12         0            NaN         65              среднее             1   \n",
       "13         0   -1846.641941         54  неоконченное высшее             2   \n",
       "14         0   -1844.956182         56               высшее             0   \n",
       "15         1    -972.364419         26              среднее             1   \n",
       "16         0   -1719.934226         35              среднее             1   \n",
       "17         0   -2369.999720         33               высшее             0   \n",
       "18         0  400281.136913         53              среднее             1   \n",
       "19         0  -10038.818549         48              СРЕДНЕЕ             1   \n",
       "\n",
       "       family_status  family_status_id gender income_type  debt  \\\n",
       "0    женат / замужем                 0      F   сотрудник     0   \n",
       "1    женат / замужем                 0      F   сотрудник     0   \n",
       "2    женат / замужем                 0      M   сотрудник     0   \n",
       "3    женат / замужем                 0      M   сотрудник     0   \n",
       "4   гражданский брак                 1      F   пенсионер     0   \n",
       "5   гражданский брак                 1      M   компаньон     0   \n",
       "6    женат / замужем                 0      F   компаньон     0   \n",
       "7    женат / замужем                 0      M   сотрудник     0   \n",
       "8   гражданский брак                 1      F   сотрудник     0   \n",
       "9    женат / замужем                 0      M   сотрудник     0   \n",
       "10   женат / замужем                 0      M   компаньон     0   \n",
       "11   женат / замужем                 0      F   сотрудник     0   \n",
       "12  гражданский брак                 1      M   пенсионер     0   \n",
       "13   женат / замужем                 0      F   сотрудник     0   \n",
       "14  гражданский брак                 1      F   компаньон     1   \n",
       "15   женат / замужем                 0      F   сотрудник     0   \n",
       "16   женат / замужем                 0      F   сотрудник     0   \n",
       "17  гражданский брак                 1      M   сотрудник     0   \n",
       "18    вдовец / вдова                 2      F   пенсионер     0   \n",
       "19         в разводе                 3      F   сотрудник     0   \n",
       "\n",
       "     total_income                                 purpose  \n",
       "0   253875.639453                           покупка жилья  \n",
       "1   112080.014102                 приобретение автомобиля  \n",
       "2   145885.952297                           покупка жилья  \n",
       "3   267628.550329              дополнительное образование  \n",
       "4   158616.077870                         сыграть свадьбу  \n",
       "5   255763.565419                           покупка жилья  \n",
       "6   240525.971920                       операции с жильем  \n",
       "7   135823.934197                             образование  \n",
       "8    95856.832424                   на проведение свадьбы  \n",
       "9   144425.938277                 покупка жилья для семьи  \n",
       "10  113943.491460                    покупка недвижимости  \n",
       "11   77069.234271       покупка коммерческой недвижимости  \n",
       "12            NaN                         сыграть свадьбу  \n",
       "13  130458.228857                 приобретение автомобиля  \n",
       "14  165127.911772              покупка жилой недвижимости  \n",
       "15  116820.904450  строительство собственной недвижимости  \n",
       "16  289202.704229                            недвижимость  \n",
       "17   90410.586745              строительство недвижимости  \n",
       "18   56823.777243      на покупку подержанного автомобиля  \n",
       "19  242831.107982            на покупку своего автомобиля  "
      ]
     },
     "execution_count": 2,
     "metadata": {},
     "output_type": "execute_result"
    }
   ],
   "source": [
    "data.head(20)"
   ]
  },
  {
   "cell_type": "markdown",
   "id": "a01e049e",
   "metadata": {
    "deletable": false,
    "editable": false,
    "id": "1c12e233"
   },
   "source": [
    "**Задание 3. Выведите основную информацию о датафрейме с помощью метода `info()`.**"
   ]
  },
  {
   "cell_type": "code",
   "execution_count": 3,
   "id": "db9c44c2",
   "metadata": {
    "deletable": false,
    "id": "2b757bca",
    "outputId": "15376089-8dad-46c9-b520-c05248d43158"
   },
   "outputs": [
    {
     "name": "stdout",
     "output_type": "stream",
     "text": [
      "<class 'pandas.core.frame.DataFrame'>\n",
      "RangeIndex: 21525 entries, 0 to 21524\n",
      "Data columns (total 12 columns):\n",
      " #   Column            Non-Null Count  Dtype  \n",
      "---  ------            --------------  -----  \n",
      " 0   children          21525 non-null  int64  \n",
      " 1   days_employed     19351 non-null  float64\n",
      " 2   dob_years         21525 non-null  int64  \n",
      " 3   education         21525 non-null  object \n",
      " 4   education_id      21525 non-null  int64  \n",
      " 5   family_status     21525 non-null  object \n",
      " 6   family_status_id  21525 non-null  int64  \n",
      " 7   gender            21525 non-null  object \n",
      " 8   income_type       21525 non-null  object \n",
      " 9   debt              21525 non-null  int64  \n",
      " 10  total_income      19351 non-null  float64\n",
      " 11  purpose           21525 non-null  object \n",
      "dtypes: float64(2), int64(5), object(5)\n",
      "memory usage: 2.0+ MB\n"
     ]
    }
   ],
   "source": [
    "data.info()"
   ]
  },
  {
   "cell_type": "markdown",
   "id": "bc8592b9",
   "metadata": {
    "deletable": false,
    "editable": false,
    "id": "333ec665"
   },
   "source": [
    "## Предобработка данных"
   ]
  },
  {
   "cell_type": "markdown",
   "id": "f4ade759",
   "metadata": {
    "deletable": false,
    "editable": false,
    "id": "02d92d53"
   },
   "source": [
    "### Удаление пропусков"
   ]
  },
  {
   "cell_type": "markdown",
   "id": "324f6a50",
   "metadata": {
    "deletable": false,
    "editable": false,
    "id": "cd84967c"
   },
   "source": [
    "**Задание 4. Выведите количество пропущенных значений для каждого столбца. Используйте комбинацию двух методов.**"
   ]
  },
  {
   "cell_type": "code",
   "execution_count": 4,
   "id": "e08d18a3",
   "metadata": {
    "deletable": false,
    "id": "7f9b2309",
    "outputId": "81f4d817-781c-465c-ed15-91ce4446810d"
   },
   "outputs": [
    {
     "data": {
      "text/plain": [
       "children               0\n",
       "days_employed       2174\n",
       "dob_years              0\n",
       "education              0\n",
       "education_id           0\n",
       "family_status          0\n",
       "family_status_id       0\n",
       "gender                 0\n",
       "income_type            0\n",
       "debt                   0\n",
       "total_income        2174\n",
       "purpose                0\n",
       "dtype: int64"
      ]
     },
     "execution_count": 4,
     "metadata": {},
     "output_type": "execute_result"
    }
   ],
   "source": [
    "data.isna().sum()"
   ]
  },
  {
   "cell_type": "markdown",
   "id": "a1ce33cb",
   "metadata": {
    "deletable": false,
    "editable": false,
    "id": "db86e27b"
   },
   "source": [
    "**Задание 5. В двух столбцах есть пропущенные значения. Один из них — `days_employed`. Пропуски в этом столбце вы обработаете на следующем этапе. Другой столбец с пропущенными значениями — `total_income` — хранит данные о доходах. На сумму дохода сильнее всего влияет тип занятости, поэтому заполнить пропуски в этом столбце нужно медианным значением по каждому типу из столбца `income_type`. Например, у человека с типом занятости `сотрудник` пропуск в столбце `total_income` должен быть заполнен медианным доходом среди всех записей с тем же типом.**"
   ]
  },
  {
   "cell_type": "code",
   "execution_count": 5,
   "id": "ae7c6aa5",
   "metadata": {
    "deletable": false,
    "id": "42006a93"
   },
   "outputs": [],
   "source": [
    "for t in data['income_type'].unique():\n",
    "    data.loc[(data['income_type'] == t) & (data['total_income'].isna()), 'total_income'] = \\\n",
    "    data.loc[(data['income_type'] == t), 'total_income'].median()"
   ]
  },
  {
   "cell_type": "markdown",
   "id": "6b7a96b3",
   "metadata": {
    "deletable": false,
    "editable": false,
    "id": "89da5ece"
   },
   "source": [
    "### Обработка аномальных значений"
   ]
  },
  {
   "cell_type": "markdown",
   "id": "711e98ba",
   "metadata": {
    "deletable": false,
    "editable": false,
    "id": "57964554"
   },
   "source": [
    "**Задание 6. В данных могут встречаться артефакты (аномалии) — значения, которые не отражают действительность и появились по какой-то ошибке. таким артефактом будет отрицательное количество дней трудового стажа в столбце `days_employed`. Для реальных данных это нормально. Обработайте значения в этом столбце: замените все отрицательные значения положительными с помощью метода `abs()`.**"
   ]
  },
  {
   "cell_type": "code",
   "execution_count": 6,
   "id": "28832d94",
   "metadata": {
    "deletable": false,
    "id": "f6f055bf"
   },
   "outputs": [],
   "source": [
    "data['days_employed'] = data['days_employed'].abs()"
   ]
  },
  {
   "cell_type": "markdown",
   "id": "f9f1d8d7",
   "metadata": {
    "deletable": false,
    "editable": false,
    "id": "6107dd2f"
   },
   "source": [
    "**Задание 7. Для каждого типа занятости выведите медианное значение трудового стажа `days_employed` в днях.**"
   ]
  },
  {
   "cell_type": "code",
   "execution_count": 7,
   "id": "0436e7ef",
   "metadata": {
    "deletable": false,
    "id": "85a5faf6",
    "outputId": "801ef80e-522b-4668-f34e-565af7432bcf"
   },
   "outputs": [
    {
     "data": {
      "text/plain": [
       "income_type\n",
       "безработный        366413.652744\n",
       "в декрете            3296.759962\n",
       "госслужащий          2689.368353\n",
       "компаньон            1547.382223\n",
       "пенсионер          365213.306266\n",
       "предприниматель       520.848083\n",
       "сотрудник            1574.202821\n",
       "студент               578.751554\n",
       "Name: days_employed, dtype: float64"
      ]
     },
     "execution_count": 7,
     "metadata": {},
     "output_type": "execute_result"
    }
   ],
   "source": [
    "data.groupby('income_type')['days_employed'].agg('median')"
   ]
  },
  {
   "cell_type": "markdown",
   "id": "568faa17",
   "metadata": {
    "deletable": false,
    "editable": false,
    "id": "38d1a030"
   },
   "source": [
    "У двух типов (безработные и пенсионеры) получатся аномально большие значения. Исправить такие значения сложно, поэтому оставьте их как есть. Тем более этот столбец не понадобится вам для исследования."
   ]
  },
  {
   "cell_type": "markdown",
   "id": "43810cb5",
   "metadata": {
    "deletable": false,
    "editable": false,
    "id": "d8a9f147"
   },
   "source": [
    "**Задание 8. Выведите перечень уникальных значений столбца `children`.**"
   ]
  },
  {
   "cell_type": "code",
   "execution_count": 8,
   "id": "fd292406",
   "metadata": {
    "deletable": false,
    "id": "ef5056eb",
    "outputId": "6975b15c-7f95-4697-d16d-a0c79b657b03"
   },
   "outputs": [
    {
     "data": {
      "text/plain": [
       "array([ 1,  0,  3,  2, -1,  4, 20,  5])"
      ]
     },
     "execution_count": 8,
     "metadata": {},
     "output_type": "execute_result"
    }
   ],
   "source": [
    "data['children'].unique()"
   ]
  },
  {
   "cell_type": "markdown",
   "id": "966dcddc",
   "metadata": {
    "deletable": false,
    "editable": false,
    "id": "40b9ebf2"
   },
   "source": [
    "**Задание 9. В столбце `children` есть два аномальных значения. Удалите строки, в которых встречаются такие аномальные значения из датафрейма `data`.**"
   ]
  },
  {
   "cell_type": "code",
   "execution_count": 9,
   "id": "25667d98",
   "metadata": {
    "deletable": false,
    "id": "3ff9801d"
   },
   "outputs": [],
   "source": [
    "data = data[(data['children'] != -1) & (data['children'] != 20)]"
   ]
  },
  {
   "cell_type": "markdown",
   "id": "dfdde6a4",
   "metadata": {
    "deletable": false,
    "editable": false,
    "id": "bbc4d0ce"
   },
   "source": [
    "**Задание 10. Ещё раз выведите перечень уникальных значений столбца `children`, чтобы убедиться, что артефакты удалены.**"
   ]
  },
  {
   "cell_type": "code",
   "execution_count": 10,
   "id": "0d7f634f",
   "metadata": {
    "deletable": false,
    "id": "ad4fa8b7",
    "outputId": "b2097101-d49d-44d9-901b-32a65c9463d1"
   },
   "outputs": [
    {
     "data": {
      "text/plain": [
       "array([1, 0, 3, 2, 4, 5])"
      ]
     },
     "execution_count": 10,
     "metadata": {},
     "output_type": "execute_result"
    }
   ],
   "source": [
    "data['children'].unique()"
   ]
  },
  {
   "cell_type": "markdown",
   "id": "d4e97fc9",
   "metadata": {
    "deletable": false,
    "editable": false,
    "id": "75440b63"
   },
   "source": [
    "### Удаление пропусков (продолжение)"
   ]
  },
  {
   "cell_type": "markdown",
   "id": "574beb62",
   "metadata": {
    "deletable": false,
    "editable": false,
    "id": "f4ea573f"
   },
   "source": [
    "**Задание 11. Заполните пропуски в столбце `days_employed` медианными значениями по каждого типа занятости `income_type`.**"
   ]
  },
  {
   "cell_type": "code",
   "execution_count": 11,
   "id": "d982fee1",
   "metadata": {
    "deletable": false,
    "id": "af6b1a7e"
   },
   "outputs": [],
   "source": [
    "for t in data['income_type'].unique():\n",
    "    data.loc[(data['income_type'] == t) & (data['days_employed'].isna()), 'days_employed'] = \\\n",
    "    data.loc[(data['income_type'] == t), 'days_employed'].median()"
   ]
  },
  {
   "cell_type": "markdown",
   "id": "aea6fa58",
   "metadata": {
    "deletable": false,
    "editable": false,
    "id": "2753f40d"
   },
   "source": [
    "**Задание 12. Убедитесь, что все пропуски заполнены. Проверьте себя и ещё раз выведите количество пропущенных значений для каждого столбца с помощью двух методов.**"
   ]
  },
  {
   "cell_type": "code",
   "execution_count": 12,
   "id": "79a46b36",
   "metadata": {
    "deletable": false,
    "id": "55f78bc2",
    "outputId": "8da1e4e1-358e-4e87-98c9-f261bce0a7b2"
   },
   "outputs": [
    {
     "data": {
      "text/plain": [
       "children            0\n",
       "days_employed       0\n",
       "dob_years           0\n",
       "education           0\n",
       "education_id        0\n",
       "family_status       0\n",
       "family_status_id    0\n",
       "gender              0\n",
       "income_type         0\n",
       "debt                0\n",
       "total_income        0\n",
       "purpose             0\n",
       "dtype: int64"
      ]
     },
     "execution_count": 12,
     "metadata": {},
     "output_type": "execute_result"
    }
   ],
   "source": [
    "data.isna().sum()"
   ]
  },
  {
   "cell_type": "markdown",
   "id": "3e8361ff",
   "metadata": {
    "deletable": false,
    "editable": false,
    "id": "ddc81e43"
   },
   "source": [
    "### Изменение типов данных"
   ]
  },
  {
   "cell_type": "markdown",
   "id": "2522961d",
   "metadata": {
    "deletable": false,
    "editable": false,
    "id": "42d19d24"
   },
   "source": [
    "**Задание 13. Замените вещественный тип данных в столбце `total_income` на целочисленный с помощью метода `astype()`.**"
   ]
  },
  {
   "cell_type": "code",
   "execution_count": 13,
   "id": "f5d7865b",
   "metadata": {
    "deletable": false,
    "id": "920b65ad"
   },
   "outputs": [],
   "source": [
    "data['total_income'] = data['total_income'].astype(int)"
   ]
  },
  {
   "cell_type": "markdown",
   "id": "7abf67fa",
   "metadata": {
    "deletable": false,
    "editable": false,
    "id": "80c420ba"
   },
   "source": [
    "### Обработка дубликатов"
   ]
  },
  {
   "cell_type": "markdown",
   "id": "349f472e",
   "metadata": {
    "deletable": false,
    "editable": false
   },
   "source": [
    "**Задание 14. Обработайте неявные дубликаты в столбце `education`. В этом столбце есть одни и те же значения, но записанные по-разному: с использованием заглавных и строчных букв. Приведите их к нижнему регистру. Проверьте остальные столбцы.**"
   ]
  },
  {
   "cell_type": "code",
   "execution_count": 14,
   "id": "a8676f31",
   "metadata": {
    "deletable": false
   },
   "outputs": [],
   "source": [
    "data['education'] = data['education'].str.lower()"
   ]
  },
  {
   "cell_type": "markdown",
   "id": "4c878542",
   "metadata": {
    "deletable": false,
    "editable": false,
    "id": "dc587695"
   },
   "source": [
    "**Задание 15. Выведите на экран количество строк-дубликатов в данных. Если такие строки присутствуют, удалите их.**"
   ]
  },
  {
   "cell_type": "code",
   "execution_count": 15,
   "id": "d19ccb9a",
   "metadata": {
    "deletable": false,
    "id": "3ee445e4",
    "outputId": "9684deba-1934-42d1-99e1-cda61740f822"
   },
   "outputs": [
    {
     "data": {
      "text/plain": [
       "71"
      ]
     },
     "execution_count": 15,
     "metadata": {},
     "output_type": "execute_result"
    }
   ],
   "source": [
    "data.duplicated().sum()"
   ]
  },
  {
   "cell_type": "code",
   "execution_count": 16,
   "id": "06bc87cb",
   "metadata": {
    "deletable": false,
    "id": "8575fe05"
   },
   "outputs": [],
   "source": [
    "data = data.drop_duplicates()"
   ]
  },
  {
   "cell_type": "markdown",
   "id": "bff748a9",
   "metadata": {
    "deletable": false,
    "editable": false,
    "id": "9904cf55"
   },
   "source": [
    "### Категоризация данных"
   ]
  },
  {
   "cell_type": "markdown",
   "id": "078e46fe",
   "metadata": {
    "deletable": false,
    "editable": false,
    "id": "72fcc8a2"
   },
   "source": [
    "**Задание 16. На основании диапазонов, указанных ниже, создайте в датафрейме `data` столбец `total_income_category` с категориями:**\n",
    "\n",
    "- 0–30000 — `'E'`;\n",
    "- 30001–50000 — `'D'`;\n",
    "- 50001–200000 — `'C'`;\n",
    "- 200001–1000000 — `'B'`;\n",
    "- 1000001 и выше — `'A'`.\n",
    "\n",
    "\n",
    "**Например, кредитополучателю с доходом 25000 нужно назначить категорию `'E'`, а клиенту, получающему 235000, — `'B'`. Используйте собственную функцию с именем `categorize_income()` и метод `apply()`.**"
   ]
  },
  {
   "cell_type": "code",
   "execution_count": 17,
   "id": "daf4ca85",
   "metadata": {
    "deletable": false,
    "id": "e1771346"
   },
   "outputs": [],
   "source": [
    "def categorize_income(income):\n",
    "    try:\n",
    "        if 0 <= income <= 30000:\n",
    "            return 'E'\n",
    "        elif 30001 <= income <= 50000:\n",
    "            return 'D'\n",
    "        elif 50001 <= income <= 200000:\n",
    "            return 'C'\n",
    "        elif 200001 <= income <= 1000000:\n",
    "            return 'B'\n",
    "        elif income >= 1000001:\n",
    "            return 'A'\n",
    "    except:\n",
    "        pass"
   ]
  },
  {
   "cell_type": "code",
   "execution_count": 18,
   "id": "1bc4e9c9",
   "metadata": {
    "deletable": false,
    "id": "d5f3586d"
   },
   "outputs": [],
   "source": [
    "data['total_income_category'] = data['total_income'].apply(categorize_income)"
   ]
  },
  {
   "cell_type": "markdown",
   "id": "f59ecc3b",
   "metadata": {
    "deletable": false,
    "editable": false,
    "id": "dde49b5c"
   },
   "source": [
    "**Задание 17. Выведите на экран перечень уникальных целей взятия кредита из столбца `purpose`.**"
   ]
  },
  {
   "cell_type": "code",
   "execution_count": 19,
   "id": "c09fb0e7",
   "metadata": {
    "deletable": false,
    "id": "f67ce9b3",
    "outputId": "673c12d9-7d7e-4ae0-9812-c622c89dd244"
   },
   "outputs": [
    {
     "data": {
      "text/plain": [
       "array(['покупка жилья', 'приобретение автомобиля',\n",
       "       'дополнительное образование', 'сыграть свадьбу',\n",
       "       'операции с жильем', 'образование', 'на проведение свадьбы',\n",
       "       'покупка жилья для семьи', 'покупка недвижимости',\n",
       "       'покупка коммерческой недвижимости', 'покупка жилой недвижимости',\n",
       "       'строительство собственной недвижимости', 'недвижимость',\n",
       "       'строительство недвижимости', 'на покупку подержанного автомобиля',\n",
       "       'на покупку своего автомобиля',\n",
       "       'операции с коммерческой недвижимостью',\n",
       "       'строительство жилой недвижимости', 'жилье',\n",
       "       'операции со своей недвижимостью', 'автомобили',\n",
       "       'заняться образованием', 'сделка с подержанным автомобилем',\n",
       "       'получение образования', 'автомобиль', 'свадьба',\n",
       "       'получение дополнительного образования', 'покупка своего жилья',\n",
       "       'операции с недвижимостью', 'получение высшего образования',\n",
       "       'свой автомобиль', 'сделка с автомобилем',\n",
       "       'профильное образование', 'высшее образование',\n",
       "       'покупка жилья для сдачи', 'на покупку автомобиля', 'ремонт жилью',\n",
       "       'заняться высшим образованием'], dtype=object)"
      ]
     },
     "execution_count": 19,
     "metadata": {},
     "output_type": "execute_result"
    }
   ],
   "source": [
    "data['purpose'].unique()"
   ]
  },
  {
   "cell_type": "markdown",
   "id": "e74ffc80",
   "metadata": {
    "deletable": false,
    "editable": false,
    "id": "85d0aef0"
   },
   "source": [
    "**Задание 18. Создайте функцию, которая на основании данных из столбца `purpose` сформирует новый столбец `purpose_category`, в который войдут следующие категории:**\n",
    "\n",
    "- `'операции с автомобилем'`,\n",
    "- `'операции с недвижимостью'`,\n",
    "- `'проведение свадьбы'`,\n",
    "- `'получение образования'`.\n",
    "\n",
    "**Например, если в столбце `purpose` находится подстрока `'на покупку автомобиля'`, то в столбце `purpose_category` должна появиться строка `'операции с автомобилем'`.**\n",
    "\n",
    "**Используйте собственную функцию с именем `categorize_purpose()` и метод `apply()`. Изучите данные в столбце `purpose` и определите, какие подстроки помогут вам правильно определить категорию.**"
   ]
  },
  {
   "cell_type": "code",
   "execution_count": 20,
   "id": "f82824be",
   "metadata": {
    "deletable": false,
    "id": "e149fab4"
   },
   "outputs": [],
   "source": [
    "def categorize_purpose(row):\n",
    "    try:\n",
    "        if 'автом' in row:\n",
    "            return 'операции с автомобилем'\n",
    "        elif 'жил' in row or 'недвиж' in row:\n",
    "            return 'операции с недвижимостью'\n",
    "        elif 'свад' in row:\n",
    "            return 'проведение свадьбы'\n",
    "        elif 'образов' in row:\n",
    "            return 'получение образования'\n",
    "    except:\n",
    "        return 'нет категории'"
   ]
  },
  {
   "cell_type": "code",
   "execution_count": 21,
   "id": "8d427cbe",
   "metadata": {
    "deletable": false,
    "id": "bf36e69b"
   },
   "outputs": [],
   "source": [
    "data['purpose_category'] = data['purpose'].apply(categorize_purpose)"
   ]
  },
  {
   "cell_type": "markdown",
   "id": "8ff45717",
   "metadata": {
    "deletable": false,
    "editable": false,
    "id": "09b242bf"
   },
   "source": [
    "### Шаг 3. Исследуйте данные и ответьте на вопросы"
   ]
  },
  {
   "cell_type": "markdown",
   "id": "03a39743",
   "metadata": {
    "deletable": false,
    "editable": false,
    "id": "c5d66278"
   },
   "source": [
    "#### 3.1 Есть ли зависимость между количеством детей и возвратом кредита в срок?"
   ]
  },
  {
   "cell_type": "code",
   "execution_count": 22,
   "id": "75df1029",
   "metadata": {
    "deletable": false,
    "id": "2cacfc4a"
   },
   "outputs": [
    {
     "data": {
      "text/plain": [
       "0    14091\n",
       "1     4808\n",
       "2     2052\n",
       "3      330\n",
       "4       41\n",
       "5        9\n",
       "Name: children, dtype: int64"
      ]
     },
     "execution_count": 22,
     "metadata": {},
     "output_type": "execute_result"
    }
   ],
   "source": [
    "data['children'].value_counts() # Вспомним, какие варианты количества детей представлены в таблице."
   ]
  },
  {
   "cell_type": "markdown",
   "id": "e9264e20",
   "metadata": {},
   "source": [
    "В таблице представлено несколько категорий семей в зависимости от количества детей. Больше всего семей без детей - около 14 000. Затем идут семьи с одним ребенком - около 4800. На третьем месте - семьи с двумя детьми - около 2000. Меньше всего многодетных семей. Возможно, имеет смысл объединить их в одну категорию. Чтобы проверить это, мы построим две сводные таблицы. Первая будет построена по категориям \"бездетная семья\", \"среднестатистическая семья\", \"многодетная семья\", а вторая - по количеству детей."
   ]
  },
  {
   "cell_type": "code",
   "execution_count": 23,
   "id": "008a0488",
   "metadata": {},
   "outputs": [
    {
     "data": {
      "text/html": [
       "<div>\n",
       "<style scoped>\n",
       "    .dataframe tbody tr th:only-of-type {\n",
       "        vertical-align: middle;\n",
       "    }\n",
       "\n",
       "    .dataframe tbody tr th {\n",
       "        vertical-align: top;\n",
       "    }\n",
       "\n",
       "    .dataframe thead th {\n",
       "        text-align: right;\n",
       "    }\n",
       "</style>\n",
       "<table border=\"1\" class=\"dataframe\">\n",
       "  <thead>\n",
       "    <tr style=\"text-align: right;\">\n",
       "      <th></th>\n",
       "      <th>children</th>\n",
       "      <th>children_category</th>\n",
       "    </tr>\n",
       "  </thead>\n",
       "  <tbody>\n",
       "    <tr>\n",
       "      <th>0</th>\n",
       "      <td>1</td>\n",
       "      <td>Среднестатистическая семья</td>\n",
       "    </tr>\n",
       "    <tr>\n",
       "      <th>1</th>\n",
       "      <td>1</td>\n",
       "      <td>Среднестатистическая семья</td>\n",
       "    </tr>\n",
       "    <tr>\n",
       "      <th>2</th>\n",
       "      <td>0</td>\n",
       "      <td>Бездетная семья</td>\n",
       "    </tr>\n",
       "    <tr>\n",
       "      <th>3</th>\n",
       "      <td>3</td>\n",
       "      <td>Многодетная семья</td>\n",
       "    </tr>\n",
       "    <tr>\n",
       "      <th>4</th>\n",
       "      <td>0</td>\n",
       "      <td>Бездетная семья</td>\n",
       "    </tr>\n",
       "    <tr>\n",
       "      <th>5</th>\n",
       "      <td>0</td>\n",
       "      <td>Бездетная семья</td>\n",
       "    </tr>\n",
       "    <tr>\n",
       "      <th>6</th>\n",
       "      <td>0</td>\n",
       "      <td>Бездетная семья</td>\n",
       "    </tr>\n",
       "    <tr>\n",
       "      <th>7</th>\n",
       "      <td>0</td>\n",
       "      <td>Бездетная семья</td>\n",
       "    </tr>\n",
       "    <tr>\n",
       "      <th>8</th>\n",
       "      <td>2</td>\n",
       "      <td>Среднестатистическая семья</td>\n",
       "    </tr>\n",
       "    <tr>\n",
       "      <th>9</th>\n",
       "      <td>0</td>\n",
       "      <td>Бездетная семья</td>\n",
       "    </tr>\n",
       "  </tbody>\n",
       "</table>\n",
       "</div>"
      ],
      "text/plain": [
       "   children           children_category\n",
       "0         1  Среднестатистическая семья\n",
       "1         1  Среднестатистическая семья\n",
       "2         0             Бездетная семья\n",
       "3         3           Многодетная семья\n",
       "4         0             Бездетная семья\n",
       "5         0             Бездетная семья\n",
       "6         0             Бездетная семья\n",
       "7         0             Бездетная семья\n",
       "8         2  Среднестатистическая семья\n",
       "9         0             Бездетная семья"
      ]
     },
     "execution_count": 23,
     "metadata": {},
     "output_type": "execute_result"
    }
   ],
   "source": [
    "# Для удобства анализа я разделю семьи на три категории с помощью функции создания условий if.\n",
    "def children_category_four(children):\n",
    "    if children == 0:\n",
    "        return 'Бездетная семья'\n",
    "    if children == 1 or children == 2:\n",
    "        return 'Среднестатистическая семья'\n",
    "    if children >= 3:\n",
    "        return 'Многодетная семья'\n",
    "    \n",
    "# Создам новый столбец в нашей таблице и добавлю в него данные, используя функцию обработки данных из столбца children.\n",
    "data['children_category'] = data['children'].apply(children_category_four)\n",
    "\n",
    "# Проверю правильность работы функции, выведя на экран два столбца таблицы.\n",
    "data[['children','children_category']].head(10)"
   ]
  },
  {
   "cell_type": "code",
   "execution_count": 24,
   "id": "07150eed",
   "metadata": {},
   "outputs": [
    {
     "data": {
      "text/html": [
       "<div>\n",
       "<style scoped>\n",
       "    .dataframe tbody tr th:only-of-type {\n",
       "        vertical-align: middle;\n",
       "    }\n",
       "\n",
       "    .dataframe tbody tr th {\n",
       "        vertical-align: top;\n",
       "    }\n",
       "\n",
       "    .dataframe thead tr th {\n",
       "        text-align: left;\n",
       "    }\n",
       "\n",
       "    .dataframe thead tr:last-of-type th {\n",
       "        text-align: right;\n",
       "    }\n",
       "</style>\n",
       "<table border=\"1\" class=\"dataframe\">\n",
       "  <thead>\n",
       "    <tr>\n",
       "      <th></th>\n",
       "      <th>count</th>\n",
       "      <th>per_debt</th>\n",
       "    </tr>\n",
       "    <tr>\n",
       "      <th></th>\n",
       "      <th>debt</th>\n",
       "      <th>debt</th>\n",
       "    </tr>\n",
       "    <tr>\n",
       "      <th>children</th>\n",
       "      <th></th>\n",
       "      <th></th>\n",
       "    </tr>\n",
       "  </thead>\n",
       "  <tbody>\n",
       "    <tr>\n",
       "      <th>0</th>\n",
       "      <td>14091</td>\n",
       "      <td>7.54%</td>\n",
       "    </tr>\n",
       "    <tr>\n",
       "      <th>1</th>\n",
       "      <td>4808</td>\n",
       "      <td>9.23%</td>\n",
       "    </tr>\n",
       "    <tr>\n",
       "      <th>2</th>\n",
       "      <td>2052</td>\n",
       "      <td>9.45%</td>\n",
       "    </tr>\n",
       "  </tbody>\n",
       "</table>\n",
       "</div>"
      ],
      "text/plain": [
       "          count per_debt\n",
       "           debt     debt\n",
       "children                \n",
       "0         14091    7.54%\n",
       "1          4808    9.23%\n",
       "2          2052    9.45%"
      ]
     },
     "execution_count": 24,
     "metadata": {},
     "output_type": "execute_result"
    }
   ],
   "source": [
    "# Введу функцию, которая будет обрабатывать данные из столбца с фактами задолженности.\n",
    "def per_debt(pdSerises):\n",
    "    return str(round((pdSerises.sum() / pdSerises.count()) * 100, 2)) + '%'\n",
    "\n",
    "# Создам сводную таблицу с двумя столбцами - количеством заемщиков определенной категории и % имевших задолженностей среди этих категорий.\n",
    "data_pivot = data.pivot_table(index=['children'], values=['debt'], aggfunc=['count',per_debt])\n",
    "\n",
    "# Выведу результат отсориториванной сводной таблицы, с теми группами заемщиков, которых больше всего.\n",
    "data_pivot[data_pivot['count', 'debt'] > 1000].sort_values(by=('per_debt', 'debt'))\n"
   ]
  },
  {
   "cell_type": "markdown",
   "id": "035b1751",
   "metadata": {},
   "source": [
    "Система классификации семей работает правильно. Теперь нам нужно обработать данные в столбце с количеством просрочек. Для этого нам понадобится использовать информацию из столбца 'debt'. Согласно документу, 'debt' указывает, была ли у клиента задолженность по возврату кредитов. Посмотрим, какие уникальные значения присутствуют в этом столбце и какого типа эти данные."
   ]
  },
  {
   "cell_type": "code",
   "execution_count": 25,
   "id": "c9215b22",
   "metadata": {},
   "outputs": [
    {
     "data": {
      "text/plain": [
       "0    19599\n",
       "1     1732\n",
       "Name: debt, dtype: int64"
      ]
     },
     "execution_count": 25,
     "metadata": {},
     "output_type": "execute_result"
    }
   ],
   "source": [
    "data['debt'].value_counts()"
   ]
  },
  {
   "cell_type": "markdown",
   "id": "4385d9c2",
   "metadata": {},
   "source": [
    "Теперь нам потребуется обработать эти данные, чтобы таблица отражала % просрочек в зависимости от категории семьи или количества детей."
   ]
  },
  {
   "cell_type": "code",
   "execution_count": 26,
   "id": "611f805e",
   "metadata": {},
   "outputs": [],
   "source": [
    "# Создаю вторую функцию per_debt, которая будет выводить нам процент просрочек.\n",
    "def per_debt(pdSerises):\n",
    "    return str(round((pdSerises.sum() / pdSerises.count()) * 100, 2)) + '%'"
   ]
  },
  {
   "cell_type": "code",
   "execution_count": 27,
   "id": "cda24519",
   "metadata": {},
   "outputs": [
    {
     "data": {
      "text/html": [
       "<div>\n",
       "<style scoped>\n",
       "    .dataframe tbody tr th:only-of-type {\n",
       "        vertical-align: middle;\n",
       "    }\n",
       "\n",
       "    .dataframe tbody tr th {\n",
       "        vertical-align: top;\n",
       "    }\n",
       "\n",
       "    .dataframe thead tr th {\n",
       "        text-align: left;\n",
       "    }\n",
       "\n",
       "    .dataframe thead tr:last-of-type th {\n",
       "        text-align: right;\n",
       "    }\n",
       "</style>\n",
       "<table border=\"1\" class=\"dataframe\">\n",
       "  <thead>\n",
       "    <tr>\n",
       "      <th></th>\n",
       "      <th>sum</th>\n",
       "      <th>count</th>\n",
       "      <th>per_debt</th>\n",
       "    </tr>\n",
       "    <tr>\n",
       "      <th></th>\n",
       "      <th>debt</th>\n",
       "      <th>debt</th>\n",
       "      <th>debt</th>\n",
       "    </tr>\n",
       "    <tr>\n",
       "      <th>children_category</th>\n",
       "      <th></th>\n",
       "      <th></th>\n",
       "      <th></th>\n",
       "    </tr>\n",
       "  </thead>\n",
       "  <tbody>\n",
       "    <tr>\n",
       "      <th>Бездетная семья</th>\n",
       "      <td>1063</td>\n",
       "      <td>14091</td>\n",
       "      <td>7.54%</td>\n",
       "    </tr>\n",
       "    <tr>\n",
       "      <th>Многодетная семья</th>\n",
       "      <td>31</td>\n",
       "      <td>380</td>\n",
       "      <td>8.16%</td>\n",
       "    </tr>\n",
       "    <tr>\n",
       "      <th>Среднестатистическая семья</th>\n",
       "      <td>638</td>\n",
       "      <td>6860</td>\n",
       "      <td>9.3%</td>\n",
       "    </tr>\n",
       "  </tbody>\n",
       "</table>\n",
       "</div>"
      ],
      "text/plain": [
       "                             sum  count per_debt\n",
       "                            debt   debt     debt\n",
       "children_category                               \n",
       "Бездетная семья             1063  14091    7.54%\n",
       "Многодетная семья             31    380    8.16%\n",
       "Среднестатистическая семья   638   6860     9.3%"
      ]
     },
     "execution_count": 27,
     "metadata": {},
     "output_type": "execute_result"
    }
   ],
   "source": [
    "# Построю сводную таблицу data_pivot с помощью инструмена pivot_table. Установлю фильтр по категории семьи. В качестве значений возьму столбец просрочек debt, обработаю его с помощью 3-х функций.\n",
    "data_pivot = data.pivot_table(index=['children_category'], values=['debt'], aggfunc=['sum','count',per_debt])\n",
    "\n",
    "# Выведу результат отсориториванной сводной таблицы.\n",
    "data_pivot.sort_values(by=('per_debt', 'debt'))"
   ]
  },
  {
   "cell_type": "markdown",
   "id": "9662df0f",
   "metadata": {},
   "source": [
    "В первой сводной таблице мы видим, что семьи без детей имеют наименьшее количество фактов задолженности по возврату кредитов. Среднестатистические семьи с 1-2 детьми, вероятно, не являются самыми надежными заемщиками согласно первой сводной таблице. Чтобы подтвердить этот вывод, мы создадим еще одну сводную таблицу, не от категории семьи, а от количества детей. Возможно, семьи с одним ребенком будут наравне с бездетными, а после появления второго ребенка количество просрочек резко возрастет."
   ]
  },
  {
   "cell_type": "code",
   "execution_count": 28,
   "id": "a7ed7382",
   "metadata": {},
   "outputs": [
    {
     "data": {
      "text/html": [
       "<div>\n",
       "<style scoped>\n",
       "    .dataframe tbody tr th:only-of-type {\n",
       "        vertical-align: middle;\n",
       "    }\n",
       "\n",
       "    .dataframe tbody tr th {\n",
       "        vertical-align: top;\n",
       "    }\n",
       "\n",
       "    .dataframe thead tr th {\n",
       "        text-align: left;\n",
       "    }\n",
       "\n",
       "    .dataframe thead tr:last-of-type th {\n",
       "        text-align: right;\n",
       "    }\n",
       "</style>\n",
       "<table border=\"1\" class=\"dataframe\">\n",
       "  <thead>\n",
       "    <tr>\n",
       "      <th></th>\n",
       "      <th>sum</th>\n",
       "      <th>count</th>\n",
       "      <th>per_debt</th>\n",
       "    </tr>\n",
       "    <tr>\n",
       "      <th></th>\n",
       "      <th>debt</th>\n",
       "      <th>debt</th>\n",
       "      <th>debt</th>\n",
       "    </tr>\n",
       "    <tr>\n",
       "      <th>children</th>\n",
       "      <th></th>\n",
       "      <th></th>\n",
       "      <th></th>\n",
       "    </tr>\n",
       "  </thead>\n",
       "  <tbody>\n",
       "    <tr>\n",
       "      <th>5</th>\n",
       "      <td>0</td>\n",
       "      <td>9</td>\n",
       "      <td>0.0%</td>\n",
       "    </tr>\n",
       "    <tr>\n",
       "      <th>0</th>\n",
       "      <td>1063</td>\n",
       "      <td>14091</td>\n",
       "      <td>7.54%</td>\n",
       "    </tr>\n",
       "    <tr>\n",
       "      <th>3</th>\n",
       "      <td>27</td>\n",
       "      <td>330</td>\n",
       "      <td>8.18%</td>\n",
       "    </tr>\n",
       "    <tr>\n",
       "      <th>1</th>\n",
       "      <td>444</td>\n",
       "      <td>4808</td>\n",
       "      <td>9.23%</td>\n",
       "    </tr>\n",
       "    <tr>\n",
       "      <th>2</th>\n",
       "      <td>194</td>\n",
       "      <td>2052</td>\n",
       "      <td>9.45%</td>\n",
       "    </tr>\n",
       "    <tr>\n",
       "      <th>4</th>\n",
       "      <td>4</td>\n",
       "      <td>41</td>\n",
       "      <td>9.76%</td>\n",
       "    </tr>\n",
       "  </tbody>\n",
       "</table>\n",
       "</div>"
      ],
      "text/plain": [
       "           sum  count per_debt\n",
       "          debt   debt     debt\n",
       "children                      \n",
       "5            0      9     0.0%\n",
       "0         1063  14091    7.54%\n",
       "3           27    330    8.18%\n",
       "1          444   4808    9.23%\n",
       "2          194   2052    9.45%\n",
       "4            4     41    9.76%"
      ]
     },
     "execution_count": 28,
     "metadata": {},
     "output_type": "execute_result"
    }
   ],
   "source": [
    "# Построю сводную таблицу data_pivot с помощью инструмена pivot_table. Установлю фильтр по количеству детей в семье. В качестве значений возьму столбец просрочек debt. Выведу столбцы, обработанные тремя функциями.\n",
    "data_pivot = data.pivot_table(index=['children'], values=['debt'], aggfunc=['sum','count',per_debt])\n",
    "\n",
    "# Далее выведу результат второй сводной таблицы.\n",
    "data_pivot.sort_values(by=('per_debt', 'debt'))"
   ]
  },
  {
   "cell_type": "markdown",
   "id": "8e15f514",
   "metadata": {},
   "source": [
    "Выводы из первой сводной таблицы о том, что семьи с одним ребенком такие же надежные, как и бездетные семьи, не подтвердилась. Процент фактов задолженностей семей с одним ребенком незначительно отличается от результатов этого же критерия для семей с двумя и четырьмя детьми.\n",
    "Однако, в текущей выборке мы обнаружили, что самыми ответственными являются семьи с пятью детьми, хотя они и являются наименьшими представителями по количеству таких семей в нашей таблице."
   ]
  },
  {
   "cell_type": "markdown",
   "id": "ba51a028",
   "metadata": {
    "deletable": false,
    "id": "3a6b99ec"
   },
   "source": [
    "**Вывод:** \n",
    "В анализируемой таблице большинство семей - бездетные (около 14 000), у которых наименьший процент возникновения задолженности (7,5%). Семьи с тремя детьми чуть менее надежны, у них процент возникновения задолженности составляет 8,2%. Остальные семьи не сильно отличаются по проценту возникновения задолженностей (от 9,2% до 9,7%). Однако, результаты оценки надежности плательщиков в зависимости от количества детей не являются однозначными, так как разница между самыми надежными и ненадежными плательщиками составляет всего 2,2%. Вероятно, этот метод оценки надежности не является достаточно надежным. Необходимо проверить другие методы оценки надежности и сравнить разницу между самым низким и самым высоким показателем надежности в каждом методе."
   ]
  },
  {
   "cell_type": "markdown",
   "id": "a3c71ff6",
   "metadata": {},
   "source": [
    "**Вывод №2:**  Семьи с пятью детьми имеют наименьший процент задолженностей, однако их количество в выборке крайне мало (всего 9 семей), поэтому этот результат не может быть полностью репрезентативным.\n",
    "\n",
    "Бездетные семьи составляют большинство в выборке (около 14 000) и имеют наименьший процент задолженностей (около 7,5%). Семьи с тремя детьми немного менее надежны, у них процент задолженностей составляет около 8,2%. Остальные семьи имеют схожие показатели задолженностей, в диапазоне от 9,2% до 9,7%.\n",
    "\n",
    "Оценка надежности плательщиков по количеству детей не является однозначной, так как разница между самыми надежными и ненадежными плательщиками составляет всего 2,2%. Этот метод оценки не рекомендуется использовать как основной, но его следует проверить другими способами и сравнить результаты."
   ]
  },
  {
   "cell_type": "markdown",
   "id": "c665a108",
   "metadata": {
    "deletable": false,
    "editable": false,
    "id": "97be82ca"
   },
   "source": [
    "#### 3.2 Есть ли зависимость между семейным положением и возвратом кредита в срок?"
   ]
  },
  {
   "cell_type": "markdown",
   "id": "8b88fb25",
   "metadata": {},
   "source": [
    "Проведем аналогичные операции с построением таблицы, но в данном случае нам не нужно обрабатывать данные столбца под %. Сначала мы посмотрим, людей с каким семейным положением больше, чтобы определить, на какие данные можно опираться, а какие не принимать во внимание."
   ]
  },
  {
   "cell_type": "code",
   "execution_count": 29,
   "id": "ec3e25ef",
   "metadata": {
    "deletable": false,
    "id": "dc3f7ee8"
   },
   "outputs": [
    {
     "data": {
      "text/plain": [
       "женат / замужем          12261\n",
       "гражданский брак          4134\n",
       "Не женат / не замужем     2796\n",
       "в разводе                 1189\n",
       "вдовец / вдова             951\n",
       "Name: family_status, dtype: int64"
      ]
     },
     "execution_count": 29,
     "metadata": {},
     "output_type": "execute_result"
    }
   ],
   "source": [
    "data['family_status'].value_counts()"
   ]
  },
  {
   "cell_type": "markdown",
   "id": "bbc3da3b",
   "metadata": {},
   "source": [
    "В таблице больше всего людей, находящихся в зарегистрированном браке (около 12 000), в три раза меньше заемщиков в гражданском браке (около 4000), заемщиков в статусе не женат/не замужем (около 3000). Количество заемщиков, находящихся в разводе и овдовевших, примерно одинаково (951 и 1189 соответственно). Можно разделить заемщиков на занятых и холостых, но это не имеет особого смысла на данный момент.\n",
    "\n",
    "Таким образом, можно учитывать все категории заемщиков, так как здесь не наблюдается аномально низких результатов, как было в первом случае с категориями семей."
   ]
  },
  {
   "cell_type": "code",
   "execution_count": 30,
   "id": "2748df43",
   "metadata": {},
   "outputs": [
    {
     "data": {
      "text/html": [
       "<div>\n",
       "<style scoped>\n",
       "    .dataframe tbody tr th:only-of-type {\n",
       "        vertical-align: middle;\n",
       "    }\n",
       "\n",
       "    .dataframe tbody tr th {\n",
       "        vertical-align: top;\n",
       "    }\n",
       "\n",
       "    .dataframe thead tr th {\n",
       "        text-align: left;\n",
       "    }\n",
       "\n",
       "    .dataframe thead tr:last-of-type th {\n",
       "        text-align: right;\n",
       "    }\n",
       "</style>\n",
       "<table border=\"1\" class=\"dataframe\">\n",
       "  <thead>\n",
       "    <tr>\n",
       "      <th></th>\n",
       "      <th>sum</th>\n",
       "      <th>count</th>\n",
       "      <th>per_debt</th>\n",
       "    </tr>\n",
       "    <tr>\n",
       "      <th></th>\n",
       "      <th>debt</th>\n",
       "      <th>debt</th>\n",
       "      <th>debt</th>\n",
       "    </tr>\n",
       "    <tr>\n",
       "      <th>family_status</th>\n",
       "      <th></th>\n",
       "      <th></th>\n",
       "      <th></th>\n",
       "    </tr>\n",
       "  </thead>\n",
       "  <tbody>\n",
       "    <tr>\n",
       "      <th>вдовец / вдова</th>\n",
       "      <td>63</td>\n",
       "      <td>951</td>\n",
       "      <td>6.62%</td>\n",
       "    </tr>\n",
       "    <tr>\n",
       "      <th>в разводе</th>\n",
       "      <td>84</td>\n",
       "      <td>1189</td>\n",
       "      <td>7.06%</td>\n",
       "    </tr>\n",
       "    <tr>\n",
       "      <th>женат / замужем</th>\n",
       "      <td>927</td>\n",
       "      <td>12261</td>\n",
       "      <td>7.56%</td>\n",
       "    </tr>\n",
       "    <tr>\n",
       "      <th>гражданский брак</th>\n",
       "      <td>385</td>\n",
       "      <td>4134</td>\n",
       "      <td>9.31%</td>\n",
       "    </tr>\n",
       "    <tr>\n",
       "      <th>Не женат / не замужем</th>\n",
       "      <td>273</td>\n",
       "      <td>2796</td>\n",
       "      <td>9.76%</td>\n",
       "    </tr>\n",
       "  </tbody>\n",
       "</table>\n",
       "</div>"
      ],
      "text/plain": [
       "                       sum  count per_debt\n",
       "                      debt   debt     debt\n",
       "family_status                             \n",
       "вдовец / вдова          63    951    6.62%\n",
       "в разводе               84   1189    7.06%\n",
       "женат / замужем        927  12261    7.56%\n",
       "гражданский брак       385   4134    9.31%\n",
       "Не женат / не замужем  273   2796    9.76%"
      ]
     },
     "execution_count": 30,
     "metadata": {},
     "output_type": "execute_result"
    }
   ],
   "source": [
    "# Построю сводную таблицу с помощью инструмена pivot_table. Установлю фильтр по семейному положению. В качестве значений возьму столбец просрочек debt. Выведу столбцы, обработанные тремя функциями.\n",
    "data_pivot_family_status = data.pivot_table(index=['family_status'], values=['debt'], aggfunc=['sum','count',per_debt])\n",
    "\n",
    "# Выведу результат.\n",
    "data_pivot_family_status.sort_values(by=('per_debt', 'debt'))"
   ]
  },
  {
   "cell_type": "markdown",
   "id": "5edf87a4",
   "metadata": {
    "deletable": false,
    "id": "1cef7837"
   },
   "source": [
    "**Вывод:** Мы видим, что самыми надежными заемщиками являются овдовевшие заемщики, но их меньше всего в нашей таблице. Чуть менее надежными заемщиками являются те, кто находится в разводе. На третьем месте по надежности выплат находятся заемщики, которые находятся сейчас в зарегистрированном браке. Их надежность примерно равна результатам надежности бездетных заемщиков. Также мы видим, что представителей замужних/женатых больше всего. Самыми ненадежными заемщиками являются находящиеся в гражданском браке заемщики. Заемщики, хоть раз заключавшие брак (находящиеся в нем или уже нет), являются наиболее надежными. Результаты оценки надежности плательщиков в зависимости от семейного положения более показательны, чем результаты оценки надежности по количеству детей. Результаты более показательные, но не совсем однозначные.\n",
    "\n"
   ]
  },
  {
   "cell_type": "markdown",
   "id": "edf39d68",
   "metadata": {
    "deletable": false,
    "editable": false,
    "id": "1e8b2fca"
   },
   "source": [
    "#### 3.3 Есть ли зависимость между уровнем дохода и возвратом кредита в срок?"
   ]
  },
  {
   "cell_type": "markdown",
   "id": "3d28f265",
   "metadata": {},
   "source": [
    "Ранее мы уже создавали столбец ['total_income_category'] с категоризацией заемщиков по уровню дохода. Эти категории были следующими:\n",
    "\n",
    "0–30000 — 'E';\n",
    "\n",
    "30001–50000 — 'D';\n",
    "\n",
    "50001–200000 — 'C';\n",
    "\n",
    "200001–1000000 — 'B';\n",
    "\n",
    "1000001 и выше — 'A'\n",
    "\n",
    "\n",
    "Посмотрим какой категории заемщиков у нас больше всего."
   ]
  },
  {
   "cell_type": "code",
   "execution_count": 31,
   "id": "36971857",
   "metadata": {
    "deletable": false,
    "id": "cd7e3720"
   },
   "outputs": [
    {
     "data": {
      "text/plain": [
       "C    15921\n",
       "B     5014\n",
       "D      349\n",
       "A       25\n",
       "E       22\n",
       "Name: total_income_category, dtype: int64"
      ]
     },
     "execution_count": 31,
     "metadata": {},
     "output_type": "execute_result"
    }
   ],
   "source": [
    "data['total_income_category'].value_counts()"
   ]
  },
  {
   "cell_type": "markdown",
   "id": "5af92fa3",
   "metadata": {},
   "source": [
    "Наибольшее количество заемщиков относится к категории С, их около 16000 человек. Заемщиков категории В, имеющих больший доход, примерно в три раза меньше - чуть более 5000 человек. Количество заемщиков с другими категориями составляет менее 500 человек в общей сложности."
   ]
  },
  {
   "cell_type": "code",
   "execution_count": 32,
   "id": "77abd3e7",
   "metadata": {},
   "outputs": [
    {
     "data": {
      "text/html": [
       "<div>\n",
       "<style scoped>\n",
       "    .dataframe tbody tr th:only-of-type {\n",
       "        vertical-align: middle;\n",
       "    }\n",
       "\n",
       "    .dataframe tbody tr th {\n",
       "        vertical-align: top;\n",
       "    }\n",
       "\n",
       "    .dataframe thead tr th {\n",
       "        text-align: left;\n",
       "    }\n",
       "\n",
       "    .dataframe thead tr:last-of-type th {\n",
       "        text-align: right;\n",
       "    }\n",
       "</style>\n",
       "<table border=\"1\" class=\"dataframe\">\n",
       "  <thead>\n",
       "    <tr>\n",
       "      <th></th>\n",
       "      <th>sum</th>\n",
       "      <th>count</th>\n",
       "      <th>per_debt</th>\n",
       "    </tr>\n",
       "    <tr>\n",
       "      <th></th>\n",
       "      <th>debt</th>\n",
       "      <th>debt</th>\n",
       "      <th>debt</th>\n",
       "    </tr>\n",
       "    <tr>\n",
       "      <th>total_income_category</th>\n",
       "      <th></th>\n",
       "      <th></th>\n",
       "      <th></th>\n",
       "    </tr>\n",
       "  </thead>\n",
       "  <tbody>\n",
       "    <tr>\n",
       "      <th>D</th>\n",
       "      <td>21</td>\n",
       "      <td>349</td>\n",
       "      <td>6.02%</td>\n",
       "    </tr>\n",
       "    <tr>\n",
       "      <th>B</th>\n",
       "      <td>354</td>\n",
       "      <td>5014</td>\n",
       "      <td>7.06%</td>\n",
       "    </tr>\n",
       "    <tr>\n",
       "      <th>A</th>\n",
       "      <td>2</td>\n",
       "      <td>25</td>\n",
       "      <td>8.0%</td>\n",
       "    </tr>\n",
       "    <tr>\n",
       "      <th>C</th>\n",
       "      <td>1353</td>\n",
       "      <td>15921</td>\n",
       "      <td>8.5%</td>\n",
       "    </tr>\n",
       "    <tr>\n",
       "      <th>E</th>\n",
       "      <td>2</td>\n",
       "      <td>22</td>\n",
       "      <td>9.09%</td>\n",
       "    </tr>\n",
       "  </tbody>\n",
       "</table>\n",
       "</div>"
      ],
      "text/plain": [
       "                        sum  count per_debt\n",
       "                       debt   debt     debt\n",
       "total_income_category                      \n",
       "D                        21    349    6.02%\n",
       "B                       354   5014    7.06%\n",
       "A                         2     25     8.0%\n",
       "C                      1353  15921     8.5%\n",
       "E                         2     22    9.09%"
      ]
     },
     "execution_count": 32,
     "metadata": {},
     "output_type": "execute_result"
    }
   ],
   "source": [
    "# Построю сводную таблицу с помощью инструмена pivot_table. Установлю фильтр по категории дохода. В качестве значений возьму столбец просрочек debt. Выведу столбцы, обработанные тремя функциями.\n",
    "data_pivot_income_category = data.pivot_table(index=['total_income_category'], values=['debt'], aggfunc=['sum','count',per_debt])\n",
    "\n",
    "# Выведу результат.\n",
    "data_pivot_income_category.sort_values(by=('per_debt', 'debt'))"
   ]
  },
  {
   "cell_type": "markdown",
   "id": "c906b1f9",
   "metadata": {
    "deletable": false,
    "id": "e8593def"
   },
   "source": [
    "**Вывод:** Согласно анализу, самые надежные заемщики относятся к категории D, у которых доход составляет от 30 001 до 50 000 рублей. Однако таких заемщиков немного - всего 349 человек. Следующими по надежности являются заемщики категории B, имеющие высокий доход от 200 001 до 1 000 000 рублей. Их количество достаточно велико, чтобы учитывать эти данные при принятии решений.\n",
    "\n",
    "Заемщики с очень высоким доходом (более миллиона рублей) не являются самыми надежными, но и не относятся к наименее надежным. Они занимают среднее положение по надежности.\n",
    "\n",
    "Самыми ненадежными заемщиками являются те, кто относится к категориям E (с самым низким доходом до 30 000 рублей) и C (со средним доходом от 50 001 до 200 000 рублей). Категория C является наиболее распространенной среди заемщиков.\n",
    "\n",
    "Оценка надежности плательщиков на основе уровня дохода дает результаты, аналогичные оценке на основе семейного положения. Разница между самыми надежными и ненадежными плательщиками составляет примерно 3,5%. Эти результаты более показательны и однозначны."
   ]
  },
  {
   "cell_type": "code",
   "execution_count": 33,
   "id": "a0cc2650",
   "metadata": {},
   "outputs": [
    {
     "data": {
      "text/html": [
       "<div>\n",
       "<style scoped>\n",
       "    .dataframe tbody tr th:only-of-type {\n",
       "        vertical-align: middle;\n",
       "    }\n",
       "\n",
       "    .dataframe tbody tr th {\n",
       "        vertical-align: top;\n",
       "    }\n",
       "\n",
       "    .dataframe thead tr th {\n",
       "        text-align: left;\n",
       "    }\n",
       "\n",
       "    .dataframe thead tr:last-of-type th {\n",
       "        text-align: right;\n",
       "    }\n",
       "</style>\n",
       "<table border=\"1\" class=\"dataframe\">\n",
       "  <thead>\n",
       "    <tr>\n",
       "      <th></th>\n",
       "      <th>count</th>\n",
       "      <th>per_debt</th>\n",
       "    </tr>\n",
       "    <tr>\n",
       "      <th></th>\n",
       "      <th>debt</th>\n",
       "      <th>debt</th>\n",
       "    </tr>\n",
       "    <tr>\n",
       "      <th>total_income_category</th>\n",
       "      <th></th>\n",
       "      <th></th>\n",
       "    </tr>\n",
       "  </thead>\n",
       "  <tbody>\n",
       "    <tr>\n",
       "      <th>B</th>\n",
       "      <td>5014</td>\n",
       "      <td>7.06%</td>\n",
       "    </tr>\n",
       "    <tr>\n",
       "      <th>C</th>\n",
       "      <td>15921</td>\n",
       "      <td>8.5%</td>\n",
       "    </tr>\n",
       "  </tbody>\n",
       "</table>\n",
       "</div>"
      ],
      "text/plain": [
       "                       count per_debt\n",
       "                        debt     debt\n",
       "total_income_category                \n",
       "B                       5014    7.06%\n",
       "C                      15921     8.5%"
      ]
     },
     "execution_count": 33,
     "metadata": {},
     "output_type": "execute_result"
    }
   ],
   "source": [
    "# Построю сводную таблицу с помощью инструмена pivot_table для всех категорий заемщиков.\n",
    "data_pivot_income_category = data.pivot_table(index=['total_income_category'], values=['debt'], aggfunc=['count',per_debt])\n",
    "\n",
    "# Выведу результат сводной таблицы, с преобладающими категориями заемщиков.\n",
    "data_pivot_income_category[data_pivot_income_category['count', 'debt'] > 5000].sort_values(by=('per_debt', 'debt'))"
   ]
  },
  {
   "cell_type": "markdown",
   "id": "b6fede53",
   "metadata": {},
   "source": [
    "В данной таблице представлены данные о количестве заемщиков и проценте задолженности по категориям дохода. Категория B включает 5014 заемщиков, из которых 7,06% имеют задолженность. Категория C включает 15921 заемщика, из которых 8,5% имеют задолженность.\n",
    "\n",
    "Категория B включает заемщиков с достаточно высоким доходом, от 200 001 до 1 000 000 рублей. Представителей этой группы заемщиков достаточно много, чтобы учитывать их данные при принятии решений.\n",
    "\n",
    "Категория C включает заемщиков со средним уровнем дохода, от 50 001 до 200 000 рублей. Эта группа является наиболее распространенной среди заемщиков. Эти результаты являются показательными на мой взгляд."
   ]
  },
  {
   "cell_type": "markdown",
   "id": "14f1f6db",
   "metadata": {
    "deletable": false,
    "editable": false,
    "id": "99ecbd1f"
   },
   "source": [
    "#### 3.4 Как разные цели кредита влияют на его возврат в срок?"
   ]
  },
  {
   "cell_type": "markdown",
   "id": "a19c887a",
   "metadata": {},
   "source": [
    "Ранее мы также создавали столбец ['purpose_category'] который классифицирует заемщиков по цели получения кредита. Посмотрим на эти категории и подсчитаем, сколько заемщиков каждой категории у нас есть в данных."
   ]
  },
  {
   "cell_type": "code",
   "execution_count": 34,
   "id": "7906c40d",
   "metadata": {
    "deletable": false,
    "id": "2b687290"
   },
   "outputs": [
    {
     "data": {
      "text/plain": [
       "операции с недвижимостью    10751\n",
       "операции с автомобилем       4279\n",
       "получение образования        3988\n",
       "проведение свадьбы           2313\n",
       "Name: purpose_category, dtype: int64"
      ]
     },
     "execution_count": 34,
     "metadata": {},
     "output_type": "execute_result"
    }
   ],
   "source": [
    "data['purpose_category'].value_counts()"
   ]
  },
  {
   "cell_type": "markdown",
   "id": "21464d2a",
   "metadata": {},
   "source": [
    "Мы видим, что чаще всего берут кредит на покупку недвижимости. Примерно на одном уровне находятся и другие категории, число представителей которых достигает тысяч."
   ]
  },
  {
   "cell_type": "code",
   "execution_count": 35,
   "id": "c0836280",
   "metadata": {},
   "outputs": [
    {
     "data": {
      "text/html": [
       "<div>\n",
       "<style scoped>\n",
       "    .dataframe tbody tr th:only-of-type {\n",
       "        vertical-align: middle;\n",
       "    }\n",
       "\n",
       "    .dataframe tbody tr th {\n",
       "        vertical-align: top;\n",
       "    }\n",
       "\n",
       "    .dataframe thead tr th {\n",
       "        text-align: left;\n",
       "    }\n",
       "\n",
       "    .dataframe thead tr:last-of-type th {\n",
       "        text-align: right;\n",
       "    }\n",
       "</style>\n",
       "<table border=\"1\" class=\"dataframe\">\n",
       "  <thead>\n",
       "    <tr>\n",
       "      <th></th>\n",
       "      <th>sum</th>\n",
       "      <th>count</th>\n",
       "      <th>per_debt</th>\n",
       "    </tr>\n",
       "    <tr>\n",
       "      <th></th>\n",
       "      <th>debt</th>\n",
       "      <th>debt</th>\n",
       "      <th>debt</th>\n",
       "    </tr>\n",
       "    <tr>\n",
       "      <th>purpose_category</th>\n",
       "      <th></th>\n",
       "      <th></th>\n",
       "      <th></th>\n",
       "    </tr>\n",
       "  </thead>\n",
       "  <tbody>\n",
       "    <tr>\n",
       "      <th>операции с недвижимостью</th>\n",
       "      <td>780</td>\n",
       "      <td>10751</td>\n",
       "      <td>7.26%</td>\n",
       "    </tr>\n",
       "    <tr>\n",
       "      <th>проведение свадьбы</th>\n",
       "      <td>183</td>\n",
       "      <td>2313</td>\n",
       "      <td>7.91%</td>\n",
       "    </tr>\n",
       "    <tr>\n",
       "      <th>получение образования</th>\n",
       "      <td>369</td>\n",
       "      <td>3988</td>\n",
       "      <td>9.25%</td>\n",
       "    </tr>\n",
       "    <tr>\n",
       "      <th>операции с автомобилем</th>\n",
       "      <td>400</td>\n",
       "      <td>4279</td>\n",
       "      <td>9.35%</td>\n",
       "    </tr>\n",
       "  </tbody>\n",
       "</table>\n",
       "</div>"
      ],
      "text/plain": [
       "                          sum  count per_debt\n",
       "                         debt   debt     debt\n",
       "purpose_category                             \n",
       "операции с недвижимостью  780  10751    7.26%\n",
       "проведение свадьбы        183   2313    7.91%\n",
       "получение образования     369   3988    9.25%\n",
       "операции с автомобилем    400   4279    9.35%"
      ]
     },
     "execution_count": 35,
     "metadata": {},
     "output_type": "execute_result"
    }
   ],
   "source": [
    "# Построю сводную таблицу с помощью инструмена pivot_table. Установлю фильтр по целям займа. В качестве значений возьму столбец просрочек debt. Выведу столбцы, обработанные тремя функциями.\n",
    "data_pivot_purpose_category = data.pivot_table(index=['purpose_category'], values=['debt'], aggfunc=['sum','count',per_debt])\n",
    "\n",
    "# Выведу результат.\n",
    "data_pivot_purpose_category.sort_values(by=('per_debt', 'debt'))"
   ]
  },
  {
   "cell_type": "markdown",
   "id": "f2f5871a",
   "metadata": {
    "deletable": false,
    "id": "b4bb2ce6"
   },
   "source": [
    "**Вывод:** Заемщики, которые берут кредит на операции с недвижимостью, являются наиболее надежными и составляют наибольшую категорию. Это делает их самым безопасным вариантом для банка. Заемщики, берущие кредит на проведение свадьбы, также считаются относительно надежными, что подтверждается проверкой других гипотез, согласно которым женатые/замужние или разведенные люди являются надежными заемщиками.\n",
    "Наименее ответственными и надежными заемщиками являются те, кто берет кредит на образование и приобретение автомобиля."
   ]
  },
  {
   "cell_type": "markdown",
   "id": "22158553",
   "metadata": {
    "deletable": false,
    "editable": false,
    "id": "09c3ac4c"
   },
   "source": [
    "#### 3.5 Приведите возможные причины появления пропусков в исходных данных."
   ]
  },
  {
   "cell_type": "markdown",
   "id": "fba126a8",
   "metadata": {
    "deletable": false,
    "id": "9da2ceda"
   },
   "source": [
    "*Ответ:* В этой таблице есть пустые ячейки в столбцах \"days_employed\" и \"total_income\". Вероятно, это связано с тем, что некоторые люди не хотели отвечать на эти вопросы. Интересно, что количество пропущенных значений в обоих столбцах одинаково. Это может говорить о том, что заполнение одного из этих столбцов влияет на заполнение другого. \n",
    "\n",
    "Также причинами появления пропусков могут быть:\n",
    "1. Технические проблемы - данные могут быть потеряны или повреждены из-за технических сбоев.\n",
    "2. Неправильное заполнение формы - некоторые люди могут неправильно заполнить форму.\n",
    "3. Отсутствие информации - в некоторых случаях информация может просто отсутствовать."
   ]
  },
  {
   "cell_type": "markdown",
   "id": "eb20f179",
   "metadata": {
    "deletable": false,
    "editable": false,
    "id": "7b0487d6"
   },
   "source": [
    "#### 3.6 Объясните, почему заполнить пропуски медианным значением — лучшее решение для количественных переменных."
   ]
  },
  {
   "cell_type": "markdown",
   "id": "5695d7f2",
   "metadata": {
    "deletable": false,
    "id": "7ecf2b8e"
   },
   "source": [
    "*Ответ:* Медиана - это такое значение, которое делит выборку на две равные части, одна половина значений выше медианы, другая - ниже. Она помогает избежать влияния аномально высоких или низких значений на среднее значение. Медиана является лучшим показателем для оценки выборки в целом, особенно, когда есть незаполненные данные."
   ]
  },
  {
   "cell_type": "markdown",
   "id": "6e04586c",
   "metadata": {
    "deletable": false,
    "editable": false,
    "id": "6db5255a"
   },
   "source": [
    "### Шаг 4: общий вывод."
   ]
  },
  {
   "cell_type": "markdown",
   "id": "4a8bded9",
   "metadata": {
    "deletable": false,
    "id": "bad65432"
   },
   "source": [
    "При оценке надежности заемщиков по различным критериям, были получены следующие результаты:\n",
    "\n",
    "По категории семей: Бездетные семьи показали самую высокую надежность, с долей просроченных займов 7.54%.\n",
    "\n",
    "По семейному положению заемщиков: Вдовцы/вдовы, разведенные и вступившие в брак заемщики показали высокую надежность, с долей просроченных займов менее 7.6%.\n",
    "\n",
    "По категории доходности заемщиков: Самыми надежными оказались заемщики категорий D и B, с долей просроченных займов менее 7.06%.\n",
    "\n",
    "По целям кредита: Самыми надежными клиентами оказались те, кто приобретает недвижимость на заемные средства, с долей просроченных займов менее 7.26%.\n"
   ]
  },
  {
   "cell_type": "markdown",
   "id": "c9abfeac",
   "metadata": {},
   "source": [
    "Вторая интерпритация: \n",
    "В рамках данного проекта я провела исследование, чтобы определить, влияет ли семейное положение и количество детей клиента на своевременный возврат кредита. Я проанализировала, существует ли связь между количеством детей и своевременным погашением кредита, есть ли связь между семейным положением и своевременным возвратом кредита, есть ли зависимость между уровнем дохода и своевременным погашением кредита и как различные цели кредитования влияют на его своевременный возврат.\n",
    "\n",
    "Бездетные семьи показали наивысшую надежность при оценке по категории детности семей, имея долю просроченных займов в размере 7,54%. Вдовцы, разведенные и вступившие в брак заемщики продемонстрировали высокую надежность при оценке по семейному положению, с долей просроченных займов менее 7,6%. Заемщики категорий D и B оказались самыми надежными при оценке по категории доходности, с долей просроченных займов менее 7,06%. Те, кто приобретает недвижимость за заемные средства, оказались самыми надежными клиентами при оценке по целям кредита, с долей просроченных займов менее 7,26%.\n",
    "\n",
    "Если оценивать по двум критериям - доходности и семейному положению - наиболее надежными оказались заемщики, заключившие брак, но с низкой доходностью (30-50 тыс.), и вдовцы/вдовы с высокой доходностью. Вероятность просрочки у таких заемщиков составляет менее 7,1%.\n",
    "\n",
    "На мой взгляд, оценка финансовой надежности заемщиков по одному критерию не всегда дает надежные результаты, так как все четыре метода оценки по одному критерию показывают примерно одинаковую дельту в результатах. "
   ]
  }
 ],
 "metadata": {
  "ExecuteTimeLog": [
   {
    "duration": 775,
    "start_time": "2024-07-24T12:32:40.975Z"
   },
   {
    "duration": 11,
    "start_time": "2024-07-24T15:03:49.416Z"
   },
   {
    "duration": 429,
    "start_time": "2024-07-24T15:04:29.142Z"
   },
   {
    "duration": 22,
    "start_time": "2024-07-24T15:04:29.573Z"
   },
   {
    "duration": 16,
    "start_time": "2024-07-24T15:04:29.597Z"
   },
   {
    "duration": 10,
    "start_time": "2024-07-24T15:04:29.615Z"
   },
   {
    "duration": 59,
    "start_time": "2024-07-24T15:04:29.626Z"
   },
   {
    "duration": 3,
    "start_time": "2024-07-24T15:04:29.687Z"
   },
   {
    "duration": 9,
    "start_time": "2024-07-24T15:04:29.692Z"
   },
   {
    "duration": 4,
    "start_time": "2024-07-24T15:04:29.702Z"
   },
   {
    "duration": 7,
    "start_time": "2024-07-24T15:04:29.707Z"
   },
   {
    "duration": 5,
    "start_time": "2024-07-24T15:04:29.717Z"
   },
   {
    "duration": 66,
    "start_time": "2024-07-24T15:04:29.723Z"
   },
   {
    "duration": 11,
    "start_time": "2024-07-24T15:04:29.791Z"
   },
   {
    "duration": 12,
    "start_time": "2024-07-24T15:04:29.804Z"
   },
   {
    "duration": 18,
    "start_time": "2024-07-24T15:04:29.818Z"
   },
   {
    "duration": 19,
    "start_time": "2024-07-24T15:04:29.837Z"
   },
   {
    "duration": 28,
    "start_time": "2024-07-24T15:04:29.858Z"
   },
   {
    "duration": 4,
    "start_time": "2024-07-24T15:04:29.888Z"
   },
   {
    "duration": 13,
    "start_time": "2024-07-24T15:04:29.894Z"
   },
   {
    "duration": 6,
    "start_time": "2024-07-24T15:04:29.909Z"
   },
   {
    "duration": 4,
    "start_time": "2024-07-24T15:04:29.917Z"
   },
   {
    "duration": 11,
    "start_time": "2024-07-24T15:04:29.922Z"
   },
   {
    "duration": 6,
    "start_time": "2024-07-24T15:04:29.934Z"
   },
   {
    "duration": 2,
    "start_time": "2024-07-24T15:04:29.942Z"
   },
   {
    "duration": 40,
    "start_time": "2024-07-24T15:04:29.945Z"
   },
   {
    "duration": 2,
    "start_time": "2024-07-24T15:04:29.987Z"
   },
   {
    "duration": 50,
    "start_time": "2024-07-24T15:13:23.004Z"
   },
   {
    "duration": 505,
    "start_time": "2024-07-24T15:13:54.875Z"
   },
   {
    "duration": 22,
    "start_time": "2024-07-24T15:13:55.382Z"
   },
   {
    "duration": 35,
    "start_time": "2024-07-24T15:13:55.405Z"
   },
   {
    "duration": 24,
    "start_time": "2024-07-24T15:13:55.442Z"
   },
   {
    "duration": 40,
    "start_time": "2024-07-24T15:13:55.468Z"
   },
   {
    "duration": 4,
    "start_time": "2024-07-24T15:13:55.509Z"
   },
   {
    "duration": 11,
    "start_time": "2024-07-24T15:13:55.514Z"
   },
   {
    "duration": 7,
    "start_time": "2024-07-24T15:13:55.526Z"
   },
   {
    "duration": 9,
    "start_time": "2024-07-24T15:13:55.535Z"
   },
   {
    "duration": 4,
    "start_time": "2024-07-24T15:13:55.547Z"
   },
   {
    "duration": 60,
    "start_time": "2024-07-24T15:13:55.552Z"
   },
   {
    "duration": 10,
    "start_time": "2024-07-24T15:13:55.613Z"
   },
   {
    "duration": 4,
    "start_time": "2024-07-24T15:13:55.624Z"
   },
   {
    "duration": 15,
    "start_time": "2024-07-24T15:13:55.629Z"
   },
   {
    "duration": 22,
    "start_time": "2024-07-24T15:13:55.645Z"
   },
   {
    "duration": 17,
    "start_time": "2024-07-24T15:13:55.685Z"
   },
   {
    "duration": 4,
    "start_time": "2024-07-24T15:13:55.703Z"
   },
   {
    "duration": 13,
    "start_time": "2024-07-24T15:13:55.708Z"
   },
   {
    "duration": 13,
    "start_time": "2024-07-24T15:13:55.722Z"
   },
   {
    "duration": 5,
    "start_time": "2024-07-24T15:13:55.737Z"
   },
   {
    "duration": 34,
    "start_time": "2024-07-24T15:13:55.744Z"
   },
   {
    "duration": 14,
    "start_time": "2024-07-24T15:13:55.780Z"
   },
   {
    "duration": 24,
    "start_time": "2024-07-24T15:13:55.796Z"
   },
   {
    "duration": 3,
    "start_time": "2024-07-24T15:13:55.822Z"
   },
   {
    "duration": 13,
    "start_time": "2024-07-24T15:13:55.827Z"
   },
   {
    "duration": 6,
    "start_time": "2024-07-24T15:13:55.842Z"
   },
   {
    "duration": 470,
    "start_time": "2024-07-24T15:14:36.405Z"
   },
   {
    "duration": 21,
    "start_time": "2024-07-24T15:14:36.876Z"
   },
   {
    "duration": 27,
    "start_time": "2024-07-24T15:14:36.899Z"
   },
   {
    "duration": 11,
    "start_time": "2024-07-24T15:14:36.928Z"
   },
   {
    "duration": 45,
    "start_time": "2024-07-24T15:14:36.940Z"
   },
   {
    "duration": 3,
    "start_time": "2024-07-24T15:14:36.987Z"
   },
   {
    "duration": 13,
    "start_time": "2024-07-24T15:14:36.991Z"
   },
   {
    "duration": 4,
    "start_time": "2024-07-24T15:14:37.006Z"
   },
   {
    "duration": 20,
    "start_time": "2024-07-24T15:14:37.012Z"
   },
   {
    "duration": 5,
    "start_time": "2024-07-24T15:14:37.035Z"
   },
   {
    "duration": 46,
    "start_time": "2024-07-24T15:14:37.041Z"
   },
   {
    "duration": 10,
    "start_time": "2024-07-24T15:14:37.089Z"
   },
   {
    "duration": 16,
    "start_time": "2024-07-24T15:14:37.100Z"
   },
   {
    "duration": 19,
    "start_time": "2024-07-24T15:14:37.117Z"
   },
   {
    "duration": 20,
    "start_time": "2024-07-24T15:14:37.138Z"
   },
   {
    "duration": 18,
    "start_time": "2024-07-24T15:14:37.159Z"
   },
   {
    "duration": 33,
    "start_time": "2024-07-24T15:14:37.185Z"
   },
   {
    "duration": 14,
    "start_time": "2024-07-24T15:14:37.220Z"
   },
   {
    "duration": 6,
    "start_time": "2024-07-24T15:14:37.235Z"
   },
   {
    "duration": 5,
    "start_time": "2024-07-24T15:14:37.243Z"
   },
   {
    "duration": 26,
    "start_time": "2024-07-24T15:14:37.249Z"
   },
   {
    "duration": 19,
    "start_time": "2024-07-24T15:14:37.276Z"
   },
   {
    "duration": 21,
    "start_time": "2024-07-24T15:14:37.296Z"
   },
   {
    "duration": 4,
    "start_time": "2024-07-24T15:14:37.318Z"
   },
   {
    "duration": 8,
    "start_time": "2024-07-24T15:14:37.323Z"
   },
   {
    "duration": 22,
    "start_time": "2024-07-24T15:14:37.332Z"
   },
   {
    "duration": 442,
    "start_time": "2024-07-24T15:15:46.229Z"
   },
   {
    "duration": 22,
    "start_time": "2024-07-24T15:15:46.673Z"
   },
   {
    "duration": 15,
    "start_time": "2024-07-24T15:15:46.696Z"
   },
   {
    "duration": 13,
    "start_time": "2024-07-24T15:15:46.714Z"
   },
   {
    "duration": 36,
    "start_time": "2024-07-24T15:15:46.728Z"
   },
   {
    "duration": 4,
    "start_time": "2024-07-24T15:15:46.765Z"
   },
   {
    "duration": 8,
    "start_time": "2024-07-24T15:15:46.785Z"
   },
   {
    "duration": 4,
    "start_time": "2024-07-24T15:15:46.794Z"
   },
   {
    "duration": 6,
    "start_time": "2024-07-24T15:15:46.800Z"
   },
   {
    "duration": 3,
    "start_time": "2024-07-24T15:15:46.809Z"
   },
   {
    "duration": 37,
    "start_time": "2024-07-24T15:15:46.813Z"
   },
   {
    "duration": 38,
    "start_time": "2024-07-24T15:15:46.852Z"
   },
   {
    "duration": 17,
    "start_time": "2024-07-24T15:15:46.892Z"
   },
   {
    "duration": 12,
    "start_time": "2024-07-24T15:15:46.910Z"
   },
   {
    "duration": 20,
    "start_time": "2024-07-24T15:15:46.923Z"
   },
   {
    "duration": 17,
    "start_time": "2024-07-24T15:15:46.945Z"
   },
   {
    "duration": 4,
    "start_time": "2024-07-24T15:15:46.963Z"
   },
   {
    "duration": 27,
    "start_time": "2024-07-24T15:15:46.968Z"
   },
   {
    "duration": 12,
    "start_time": "2024-07-24T15:15:46.996Z"
   },
   {
    "duration": 5,
    "start_time": "2024-07-24T15:15:47.010Z"
   },
   {
    "duration": 14,
    "start_time": "2024-07-24T15:15:47.016Z"
   },
   {
    "duration": 20,
    "start_time": "2024-07-24T15:15:47.032Z"
   },
   {
    "duration": 28,
    "start_time": "2024-07-24T15:15:47.053Z"
   },
   {
    "duration": 3,
    "start_time": "2024-07-24T15:15:47.082Z"
   },
   {
    "duration": 12,
    "start_time": "2024-07-24T15:15:47.086Z"
   },
   {
    "duration": 4,
    "start_time": "2024-07-24T15:15:47.099Z"
   },
   {
    "duration": 25,
    "start_time": "2024-07-24T15:21:51.743Z"
   },
   {
    "duration": 5,
    "start_time": "2024-07-24T15:26:01.570Z"
   },
   {
    "duration": 31,
    "start_time": "2024-07-24T15:37:02.573Z"
   },
   {
    "duration": 28,
    "start_time": "2024-07-24T15:40:37.763Z"
   },
   {
    "duration": 7,
    "start_time": "2024-07-24T15:47:11.173Z"
   },
   {
    "duration": 30,
    "start_time": "2024-07-24T15:50:50.664Z"
   },
   {
    "duration": 7,
    "start_time": "2024-07-24T17:11:45.987Z"
   },
   {
    "duration": 29,
    "start_time": "2024-07-24T17:16:32.401Z"
   },
   {
    "duration": 7,
    "start_time": "2024-07-24T17:23:43.619Z"
   },
   {
    "duration": 32,
    "start_time": "2024-07-24T17:26:59.008Z"
   },
   {
    "duration": 521,
    "start_time": "2024-07-24T17:47:08.373Z"
   },
   {
    "duration": 23,
    "start_time": "2024-07-24T17:47:08.895Z"
   },
   {
    "duration": 16,
    "start_time": "2024-07-24T17:47:08.920Z"
   },
   {
    "duration": 12,
    "start_time": "2024-07-24T17:47:08.938Z"
   },
   {
    "duration": 61,
    "start_time": "2024-07-24T17:47:08.951Z"
   },
   {
    "duration": 4,
    "start_time": "2024-07-24T17:47:09.014Z"
   },
   {
    "duration": 9,
    "start_time": "2024-07-24T17:47:09.020Z"
   },
   {
    "duration": 7,
    "start_time": "2024-07-24T17:47:09.030Z"
   },
   {
    "duration": 12,
    "start_time": "2024-07-24T17:47:09.039Z"
   },
   {
    "duration": 5,
    "start_time": "2024-07-24T17:47:09.054Z"
   },
   {
    "duration": 60,
    "start_time": "2024-07-24T17:47:09.060Z"
   },
   {
    "duration": 11,
    "start_time": "2024-07-24T17:47:09.121Z"
   },
   {
    "duration": 8,
    "start_time": "2024-07-24T17:47:09.134Z"
   },
   {
    "duration": 14,
    "start_time": "2024-07-24T17:47:09.144Z"
   },
   {
    "duration": 42,
    "start_time": "2024-07-24T17:47:09.159Z"
   },
   {
    "duration": 19,
    "start_time": "2024-07-24T17:47:09.202Z"
   },
   {
    "duration": 4,
    "start_time": "2024-07-24T17:47:09.222Z"
   },
   {
    "duration": 12,
    "start_time": "2024-07-24T17:47:09.228Z"
   },
   {
    "duration": 13,
    "start_time": "2024-07-24T17:47:09.241Z"
   },
   {
    "duration": 4,
    "start_time": "2024-07-24T17:47:09.255Z"
   },
   {
    "duration": 9,
    "start_time": "2024-07-24T17:47:09.286Z"
   },
   {
    "duration": 7,
    "start_time": "2024-07-24T17:47:09.297Z"
   },
   {
    "duration": 19,
    "start_time": "2024-07-24T17:47:09.305Z"
   },
   {
    "duration": 22,
    "start_time": "2024-07-24T17:47:09.325Z"
   },
   {
    "duration": 40,
    "start_time": "2024-07-24T17:47:09.349Z"
   },
   {
    "duration": 13,
    "start_time": "2024-07-24T17:47:09.391Z"
   },
   {
    "duration": 30,
    "start_time": "2024-07-24T17:47:09.405Z"
   },
   {
    "duration": 24,
    "start_time": "2024-07-24T17:47:09.438Z"
   },
   {
    "duration": 6,
    "start_time": "2024-07-24T17:47:09.464Z"
   },
   {
    "duration": 36,
    "start_time": "2024-07-24T17:47:09.471Z"
   },
   {
    "duration": 6,
    "start_time": "2024-07-24T17:47:09.508Z"
   },
   {
    "duration": 30,
    "start_time": "2024-07-24T17:47:09.515Z"
   },
   {
    "duration": 6,
    "start_time": "2024-07-24T17:47:09.547Z"
   },
   {
    "duration": 59,
    "start_time": "2024-07-24T17:47:09.555Z"
   },
   {
    "duration": 13,
    "start_time": "2024-07-24T17:48:21.298Z"
   },
   {
    "duration": 13,
    "start_time": "2024-07-24T17:48:29.980Z"
   },
   {
    "duration": 433,
    "start_time": "2024-07-24T17:49:37.342Z"
   },
   {
    "duration": 20,
    "start_time": "2024-07-24T17:49:37.777Z"
   },
   {
    "duration": 50,
    "start_time": "2024-07-24T17:49:37.798Z"
   },
   {
    "duration": 14,
    "start_time": "2024-07-24T17:49:37.850Z"
   },
   {
    "duration": 58,
    "start_time": "2024-07-24T17:49:37.865Z"
   },
   {
    "duration": 3,
    "start_time": "2024-07-24T17:49:37.924Z"
   },
   {
    "duration": 23,
    "start_time": "2024-07-24T17:49:37.929Z"
   },
   {
    "duration": 3,
    "start_time": "2024-07-24T17:49:37.954Z"
   },
   {
    "duration": 7,
    "start_time": "2024-07-24T17:49:37.958Z"
   },
   {
    "duration": 15,
    "start_time": "2024-07-24T17:49:37.968Z"
   },
   {
    "duration": 46,
    "start_time": "2024-07-24T17:49:37.985Z"
   },
   {
    "duration": 10,
    "start_time": "2024-07-24T17:49:38.032Z"
   },
   {
    "duration": 7,
    "start_time": "2024-07-24T17:49:38.043Z"
   },
   {
    "duration": 14,
    "start_time": "2024-07-24T17:49:38.051Z"
   },
   {
    "duration": 18,
    "start_time": "2024-07-24T17:49:38.066Z"
   },
   {
    "duration": 14,
    "start_time": "2024-07-24T17:49:38.085Z"
   },
   {
    "duration": 2,
    "start_time": "2024-07-24T17:49:38.101Z"
   },
   {
    "duration": 28,
    "start_time": "2024-07-24T17:49:38.105Z"
   },
   {
    "duration": 5,
    "start_time": "2024-07-24T17:49:38.134Z"
   },
   {
    "duration": 6,
    "start_time": "2024-07-24T17:49:38.141Z"
   },
   {
    "duration": 21,
    "start_time": "2024-07-24T17:49:38.148Z"
   },
   {
    "duration": 5,
    "start_time": "2024-07-24T17:49:38.171Z"
   },
   {
    "duration": 19,
    "start_time": "2024-07-24T17:49:38.177Z"
   },
   {
    "duration": 20,
    "start_time": "2024-07-24T17:49:38.197Z"
   },
   {
    "duration": 4,
    "start_time": "2024-07-24T17:49:38.219Z"
   },
   {
    "duration": 3,
    "start_time": "2024-07-24T17:49:38.224Z"
   },
   {
    "duration": 34,
    "start_time": "2024-07-24T17:49:38.228Z"
   },
   {
    "duration": 24,
    "start_time": "2024-07-24T17:49:38.285Z"
   },
   {
    "duration": 6,
    "start_time": "2024-07-24T17:49:38.310Z"
   },
   {
    "duration": 31,
    "start_time": "2024-07-24T17:49:38.317Z"
   },
   {
    "duration": 6,
    "start_time": "2024-07-24T17:49:38.350Z"
   },
   {
    "duration": 48,
    "start_time": "2024-07-24T17:49:38.357Z"
   },
   {
    "duration": 6,
    "start_time": "2024-07-24T17:49:38.406Z"
   },
   {
    "duration": 41,
    "start_time": "2024-07-24T17:49:38.413Z"
   },
   {
    "duration": 480,
    "start_time": "2024-07-24T17:55:03.913Z"
   },
   {
    "duration": 24,
    "start_time": "2024-07-24T17:55:04.395Z"
   },
   {
    "duration": 39,
    "start_time": "2024-07-24T17:55:04.421Z"
   },
   {
    "duration": 20,
    "start_time": "2024-07-24T17:55:04.462Z"
   },
   {
    "duration": 52,
    "start_time": "2024-07-24T17:55:04.483Z"
   },
   {
    "duration": 8,
    "start_time": "2024-07-24T17:55:04.537Z"
   },
   {
    "duration": 16,
    "start_time": "2024-07-24T17:55:04.547Z"
   },
   {
    "duration": 30,
    "start_time": "2024-07-24T17:55:04.564Z"
   },
   {
    "duration": 34,
    "start_time": "2024-07-24T17:55:04.595Z"
   },
   {
    "duration": 31,
    "start_time": "2024-07-24T17:55:04.632Z"
   },
   {
    "duration": 70,
    "start_time": "2024-07-24T17:55:04.665Z"
   },
   {
    "duration": 10,
    "start_time": "2024-07-24T17:55:04.736Z"
   },
   {
    "duration": 30,
    "start_time": "2024-07-24T17:55:04.748Z"
   },
   {
    "duration": 31,
    "start_time": "2024-07-24T17:55:04.780Z"
   },
   {
    "duration": 44,
    "start_time": "2024-07-24T17:55:04.813Z"
   },
   {
    "duration": 20,
    "start_time": "2024-07-24T17:55:04.858Z"
   },
   {
    "duration": 13,
    "start_time": "2024-07-24T17:55:04.880Z"
   },
   {
    "duration": 37,
    "start_time": "2024-07-24T17:55:04.895Z"
   },
   {
    "duration": 21,
    "start_time": "2024-07-24T17:55:04.934Z"
   },
   {
    "duration": 20,
    "start_time": "2024-07-24T17:55:04.957Z"
   },
   {
    "duration": 32,
    "start_time": "2024-07-24T17:55:04.979Z"
   },
   {
    "duration": 40,
    "start_time": "2024-07-24T17:55:05.012Z"
   },
   {
    "duration": 81,
    "start_time": "2024-07-24T17:55:05.054Z"
   },
   {
    "duration": 45,
    "start_time": "2024-07-24T17:55:05.137Z"
   },
   {
    "duration": 9,
    "start_time": "2024-07-24T17:55:05.184Z"
   },
   {
    "duration": 29,
    "start_time": "2024-07-24T17:55:05.194Z"
   },
   {
    "duration": 58,
    "start_time": "2024-07-24T17:55:05.224Z"
   },
   {
    "duration": 26,
    "start_time": "2024-07-24T17:55:05.286Z"
   },
   {
    "duration": 15,
    "start_time": "2024-07-24T17:55:05.313Z"
   },
   {
    "duration": 41,
    "start_time": "2024-07-24T17:55:05.330Z"
   },
   {
    "duration": 51,
    "start_time": "2024-07-24T17:55:05.373Z"
   },
   {
    "duration": 42,
    "start_time": "2024-07-24T17:55:05.426Z"
   },
   {
    "duration": 24,
    "start_time": "2024-07-24T17:55:05.469Z"
   },
   {
    "duration": 41,
    "start_time": "2024-07-24T17:55:05.495Z"
   },
   {
    "duration": 431,
    "start_time": "2024-07-24T21:17:52.878Z"
   },
   {
    "duration": 20,
    "start_time": "2024-07-24T21:17:53.311Z"
   },
   {
    "duration": 16,
    "start_time": "2024-07-24T21:17:53.335Z"
   },
   {
    "duration": 51,
    "start_time": "2024-07-24T21:17:53.352Z"
   },
   {
    "duration": 34,
    "start_time": "2024-07-24T21:17:53.405Z"
   },
   {
    "duration": 3,
    "start_time": "2024-07-24T21:17:53.440Z"
   },
   {
    "duration": 15,
    "start_time": "2024-07-24T21:17:53.444Z"
   },
   {
    "duration": 26,
    "start_time": "2024-07-24T21:17:53.460Z"
   },
   {
    "duration": 41,
    "start_time": "2024-07-24T21:17:53.489Z"
   },
   {
    "duration": 19,
    "start_time": "2024-07-24T21:17:53.531Z"
   },
   {
    "duration": 34,
    "start_time": "2024-07-24T21:17:53.551Z"
   },
   {
    "duration": 10,
    "start_time": "2024-07-24T21:17:53.586Z"
   },
   {
    "duration": 7,
    "start_time": "2024-07-24T21:17:53.597Z"
   },
   {
    "duration": 13,
    "start_time": "2024-07-24T21:17:53.606Z"
   },
   {
    "duration": 32,
    "start_time": "2024-07-24T21:17:53.621Z"
   },
   {
    "duration": 15,
    "start_time": "2024-07-24T21:17:53.655Z"
   },
   {
    "duration": 4,
    "start_time": "2024-07-24T21:17:53.671Z"
   },
   {
    "duration": 26,
    "start_time": "2024-07-24T21:17:53.676Z"
   },
   {
    "duration": 13,
    "start_time": "2024-07-24T21:17:53.704Z"
   },
   {
    "duration": 3,
    "start_time": "2024-07-24T21:17:53.719Z"
   },
   {
    "duration": 14,
    "start_time": "2024-07-24T21:17:53.723Z"
   },
   {
    "duration": 5,
    "start_time": "2024-07-24T21:17:53.738Z"
   },
   {
    "duration": 18,
    "start_time": "2024-07-24T21:17:53.745Z"
   },
   {
    "duration": 22,
    "start_time": "2024-07-24T21:17:53.764Z"
   },
   {
    "duration": 6,
    "start_time": "2024-07-24T21:17:53.788Z"
   },
   {
    "duration": 8,
    "start_time": "2024-07-24T21:17:53.795Z"
   },
   {
    "duration": 58,
    "start_time": "2024-07-24T21:17:53.806Z"
   },
   {
    "duration": 25,
    "start_time": "2024-07-24T21:17:53.866Z"
   },
   {
    "duration": 6,
    "start_time": "2024-07-24T21:17:53.893Z"
   },
   {
    "duration": 50,
    "start_time": "2024-07-24T21:17:53.900Z"
   },
   {
    "duration": 6,
    "start_time": "2024-07-24T21:17:53.951Z"
   },
   {
    "duration": 29,
    "start_time": "2024-07-24T21:17:53.959Z"
   },
   {
    "duration": 6,
    "start_time": "2024-07-24T21:17:53.989Z"
   },
   {
    "duration": 59,
    "start_time": "2024-07-24T21:17:53.997Z"
   },
   {
    "duration": 71,
    "start_time": "2024-07-25T08:23:17.193Z"
   },
   {
    "duration": 41,
    "start_time": "2024-07-25T08:44:32.796Z"
   },
   {
    "duration": 714,
    "start_time": "2024-07-25T08:44:40.973Z"
   },
   {
    "duration": 20,
    "start_time": "2024-07-25T08:44:41.689Z"
   },
   {
    "duration": 15,
    "start_time": "2024-07-25T08:44:41.710Z"
   },
   {
    "duration": 10,
    "start_time": "2024-07-25T08:44:41.727Z"
   },
   {
    "duration": 46,
    "start_time": "2024-07-25T08:44:41.738Z"
   },
   {
    "duration": 3,
    "start_time": "2024-07-25T08:44:41.785Z"
   },
   {
    "duration": 19,
    "start_time": "2024-07-25T08:44:41.789Z"
   },
   {
    "duration": 9,
    "start_time": "2024-07-25T08:44:41.809Z"
   },
   {
    "duration": 18,
    "start_time": "2024-07-25T08:44:41.819Z"
   },
   {
    "duration": 27,
    "start_time": "2024-07-25T08:44:41.840Z"
   },
   {
    "duration": 38,
    "start_time": "2024-07-25T08:44:41.868Z"
   },
   {
    "duration": 11,
    "start_time": "2024-07-25T08:44:41.907Z"
   },
   {
    "duration": 3,
    "start_time": "2024-07-25T08:44:41.919Z"
   },
   {
    "duration": 18,
    "start_time": "2024-07-25T08:44:41.924Z"
   },
   {
    "duration": 25,
    "start_time": "2024-07-25T08:44:41.943Z"
   },
   {
    "duration": 24,
    "start_time": "2024-07-25T08:44:41.969Z"
   },
   {
    "duration": 3,
    "start_time": "2024-07-25T08:44:41.995Z"
   },
   {
    "duration": 33,
    "start_time": "2024-07-25T08:44:41.999Z"
   },
   {
    "duration": 8,
    "start_time": "2024-07-25T08:44:42.033Z"
   },
   {
    "duration": 8,
    "start_time": "2024-07-25T08:44:42.042Z"
   },
   {
    "duration": 20,
    "start_time": "2024-07-25T08:44:42.051Z"
   },
   {
    "duration": 7,
    "start_time": "2024-07-25T08:44:42.072Z"
   },
   {
    "duration": 27,
    "start_time": "2024-07-25T08:44:42.080Z"
   },
   {
    "duration": 22,
    "start_time": "2024-07-25T08:44:42.110Z"
   },
   {
    "duration": 4,
    "start_time": "2024-07-25T08:44:42.133Z"
   },
   {
    "duration": 5,
    "start_time": "2024-07-25T08:44:42.138Z"
   },
   {
    "duration": 64,
    "start_time": "2024-07-25T08:44:42.144Z"
   },
   {
    "duration": 24,
    "start_time": "2024-07-25T08:44:42.210Z"
   },
   {
    "duration": 6,
    "start_time": "2024-07-25T08:44:42.235Z"
   },
   {
    "duration": 44,
    "start_time": "2024-07-25T08:44:42.243Z"
   },
   {
    "duration": 7,
    "start_time": "2024-07-25T08:44:42.288Z"
   },
   {
    "duration": 28,
    "start_time": "2024-07-25T08:44:42.297Z"
   },
   {
    "duration": 22,
    "start_time": "2024-07-25T08:44:42.326Z"
   },
   {
    "duration": 6,
    "start_time": "2024-07-25T08:44:42.349Z"
   },
   {
    "duration": 55,
    "start_time": "2024-07-25T08:44:42.356Z"
   },
   {
    "duration": 61,
    "start_time": "2024-07-25T08:55:50.860Z"
   },
   {
    "duration": 459,
    "start_time": "2024-07-25T08:55:56.829Z"
   },
   {
    "duration": 20,
    "start_time": "2024-07-25T08:55:57.290Z"
   },
   {
    "duration": 14,
    "start_time": "2024-07-25T08:55:57.312Z"
   },
   {
    "duration": 15,
    "start_time": "2024-07-25T08:55:57.328Z"
   },
   {
    "duration": 47,
    "start_time": "2024-07-25T08:55:57.344Z"
   },
   {
    "duration": 3,
    "start_time": "2024-07-25T08:55:57.393Z"
   },
   {
    "duration": 12,
    "start_time": "2024-07-25T08:55:57.397Z"
   },
   {
    "duration": 3,
    "start_time": "2024-07-25T08:55:57.410Z"
   },
   {
    "duration": 7,
    "start_time": "2024-07-25T08:55:57.415Z"
   },
   {
    "duration": 4,
    "start_time": "2024-07-25T08:55:57.425Z"
   },
   {
    "duration": 57,
    "start_time": "2024-07-25T08:55:57.430Z"
   },
   {
    "duration": 10,
    "start_time": "2024-07-25T08:55:57.488Z"
   },
   {
    "duration": 3,
    "start_time": "2024-07-25T08:55:57.500Z"
   },
   {
    "duration": 26,
    "start_time": "2024-07-25T08:55:57.504Z"
   },
   {
    "duration": 34,
    "start_time": "2024-07-25T08:55:57.531Z"
   },
   {
    "duration": 16,
    "start_time": "2024-07-25T08:55:57.566Z"
   },
   {
    "duration": 4,
    "start_time": "2024-07-25T08:55:57.583Z"
   },
   {
    "duration": 12,
    "start_time": "2024-07-25T08:55:57.588Z"
   },
   {
    "duration": 5,
    "start_time": "2024-07-25T08:55:57.601Z"
   },
   {
    "duration": 3,
    "start_time": "2024-07-25T08:55:57.607Z"
   },
   {
    "duration": 25,
    "start_time": "2024-07-25T08:55:57.611Z"
   },
   {
    "duration": 5,
    "start_time": "2024-07-25T08:55:57.638Z"
   },
   {
    "duration": 17,
    "start_time": "2024-07-25T08:55:57.644Z"
   },
   {
    "duration": 23,
    "start_time": "2024-07-25T08:55:57.682Z"
   },
   {
    "duration": 4,
    "start_time": "2024-07-25T08:55:57.707Z"
   },
   {
    "duration": 7,
    "start_time": "2024-07-25T08:55:57.712Z"
   },
   {
    "duration": 31,
    "start_time": "2024-07-25T08:55:57.720Z"
   },
   {
    "duration": 26,
    "start_time": "2024-07-25T08:55:57.781Z"
   },
   {
    "duration": 75,
    "start_time": "2024-07-25T08:55:57.808Z"
   },
   {
    "duration": 0,
    "start_time": "2024-07-25T08:55:57.884Z"
   },
   {
    "duration": 0,
    "start_time": "2024-07-25T08:55:57.885Z"
   },
   {
    "duration": 0,
    "start_time": "2024-07-25T08:55:57.886Z"
   },
   {
    "duration": 0,
    "start_time": "2024-07-25T08:55:57.887Z"
   },
   {
    "duration": 0,
    "start_time": "2024-07-25T08:55:57.887Z"
   },
   {
    "duration": 0,
    "start_time": "2024-07-25T08:55:57.888Z"
   },
   {
    "duration": 0,
    "start_time": "2024-07-25T08:55:57.889Z"
   },
   {
    "duration": 7,
    "start_time": "2024-07-25T08:58:00.599Z"
   },
   {
    "duration": 506,
    "start_time": "2024-07-25T10:07:22.656Z"
   },
   {
    "duration": 22,
    "start_time": "2024-07-25T10:07:23.164Z"
   },
   {
    "duration": 42,
    "start_time": "2024-07-25T10:07:23.188Z"
   },
   {
    "duration": 33,
    "start_time": "2024-07-25T10:07:23.233Z"
   },
   {
    "duration": 55,
    "start_time": "2024-07-25T10:07:23.267Z"
   },
   {
    "duration": 8,
    "start_time": "2024-07-25T10:07:23.324Z"
   },
   {
    "duration": 13,
    "start_time": "2024-07-25T10:07:23.333Z"
   },
   {
    "duration": 4,
    "start_time": "2024-07-25T10:07:23.348Z"
   },
   {
    "duration": 12,
    "start_time": "2024-07-25T10:07:23.354Z"
   },
   {
    "duration": 4,
    "start_time": "2024-07-25T10:07:23.368Z"
   },
   {
    "duration": 55,
    "start_time": "2024-07-25T10:07:23.373Z"
   },
   {
    "duration": 10,
    "start_time": "2024-07-25T10:07:23.429Z"
   },
   {
    "duration": 6,
    "start_time": "2024-07-25T10:07:23.440Z"
   },
   {
    "duration": 13,
    "start_time": "2024-07-25T10:07:23.447Z"
   },
   {
    "duration": 18,
    "start_time": "2024-07-25T10:07:23.461Z"
   },
   {
    "duration": 17,
    "start_time": "2024-07-25T10:07:23.481Z"
   },
   {
    "duration": 4,
    "start_time": "2024-07-25T10:07:23.500Z"
   },
   {
    "duration": 25,
    "start_time": "2024-07-25T10:07:23.505Z"
   },
   {
    "duration": 32,
    "start_time": "2024-07-25T10:07:23.531Z"
   },
   {
    "duration": 17,
    "start_time": "2024-07-25T10:07:23.564Z"
   },
   {
    "duration": 22,
    "start_time": "2024-07-25T10:07:23.583Z"
   },
   {
    "duration": 13,
    "start_time": "2024-07-25T10:07:23.606Z"
   },
   {
    "duration": 50,
    "start_time": "2024-07-25T10:07:23.621Z"
   },
   {
    "duration": 25,
    "start_time": "2024-07-25T10:07:23.672Z"
   },
   {
    "duration": 19,
    "start_time": "2024-07-25T10:07:23.698Z"
   },
   {
    "duration": 19,
    "start_time": "2024-07-25T10:07:23.719Z"
   },
   {
    "duration": 66,
    "start_time": "2024-07-25T10:07:23.740Z"
   },
   {
    "duration": 25,
    "start_time": "2024-07-25T10:07:23.808Z"
   },
   {
    "duration": 6,
    "start_time": "2024-07-25T10:07:23.835Z"
   },
   {
    "duration": 44,
    "start_time": "2024-07-25T10:07:23.842Z"
   },
   {
    "duration": 7,
    "start_time": "2024-07-25T10:07:23.888Z"
   },
   {
    "duration": 67,
    "start_time": "2024-07-25T10:07:23.897Z"
   },
   {
    "duration": 23,
    "start_time": "2024-07-25T10:07:23.965Z"
   },
   {
    "duration": 8,
    "start_time": "2024-07-25T10:07:23.990Z"
   },
   {
    "duration": 36,
    "start_time": "2024-07-25T10:07:24.000Z"
   },
   {
    "duration": 24,
    "start_time": "2024-07-25T11:51:42.492Z"
   },
   {
    "duration": 8,
    "start_time": "2024-07-25T11:52:59.328Z"
   },
   {
    "duration": 439,
    "start_time": "2024-07-25T12:06:48.522Z"
   },
   {
    "duration": 21,
    "start_time": "2024-07-25T12:06:48.963Z"
   },
   {
    "duration": 15,
    "start_time": "2024-07-25T12:06:48.985Z"
   },
   {
    "duration": 10,
    "start_time": "2024-07-25T12:06:49.001Z"
   },
   {
    "duration": 34,
    "start_time": "2024-07-25T12:06:49.012Z"
   },
   {
    "duration": 3,
    "start_time": "2024-07-25T12:06:49.047Z"
   },
   {
    "duration": 11,
    "start_time": "2024-07-25T12:06:49.052Z"
   },
   {
    "duration": 4,
    "start_time": "2024-07-25T12:06:49.081Z"
   },
   {
    "duration": 13,
    "start_time": "2024-07-25T12:06:49.086Z"
   },
   {
    "duration": 10,
    "start_time": "2024-07-25T12:06:49.101Z"
   },
   {
    "duration": 39,
    "start_time": "2024-07-25T12:06:49.112Z"
   },
   {
    "duration": 10,
    "start_time": "2024-07-25T12:06:49.152Z"
   },
   {
    "duration": 3,
    "start_time": "2024-07-25T12:06:49.163Z"
   },
   {
    "duration": 22,
    "start_time": "2024-07-25T12:06:49.167Z"
   },
   {
    "duration": 37,
    "start_time": "2024-07-25T12:06:49.190Z"
   },
   {
    "duration": 31,
    "start_time": "2024-07-25T12:06:49.228Z"
   },
   {
    "duration": 3,
    "start_time": "2024-07-25T12:06:49.260Z"
   },
   {
    "duration": 15,
    "start_time": "2024-07-25T12:06:49.264Z"
   },
   {
    "duration": 6,
    "start_time": "2024-07-25T12:06:49.280Z"
   },
   {
    "duration": 3,
    "start_time": "2024-07-25T12:06:49.287Z"
   },
   {
    "duration": 12,
    "start_time": "2024-07-25T12:06:49.292Z"
   },
   {
    "duration": 5,
    "start_time": "2024-07-25T12:06:49.305Z"
   },
   {
    "duration": 18,
    "start_time": "2024-07-25T12:06:49.311Z"
   },
   {
    "duration": 22,
    "start_time": "2024-07-25T12:06:49.330Z"
   },
   {
    "duration": 5,
    "start_time": "2024-07-25T12:06:49.382Z"
   },
   {
    "duration": 4,
    "start_time": "2024-07-25T12:06:49.389Z"
   },
   {
    "duration": 35,
    "start_time": "2024-07-25T12:06:49.394Z"
   },
   {
    "duration": 24,
    "start_time": "2024-07-25T12:06:49.433Z"
   },
   {
    "duration": 30,
    "start_time": "2024-07-25T12:06:49.458Z"
   },
   {
    "duration": 30,
    "start_time": "2024-07-25T12:06:49.489Z"
   },
   {
    "duration": 12,
    "start_time": "2024-07-25T12:06:49.521Z"
   },
   {
    "duration": 28,
    "start_time": "2024-07-25T12:06:49.535Z"
   },
   {
    "duration": 38,
    "start_time": "2024-07-25T12:06:49.565Z"
   },
   {
    "duration": 7,
    "start_time": "2024-07-25T12:06:49.604Z"
   },
   {
    "duration": 31,
    "start_time": "2024-07-25T12:06:49.613Z"
   },
   {
    "duration": 475,
    "start_time": "2024-07-25T12:37:23.567Z"
   },
   {
    "duration": 19,
    "start_time": "2024-07-25T12:37:24.044Z"
   },
   {
    "duration": 13,
    "start_time": "2024-07-25T12:37:24.065Z"
   },
   {
    "duration": 9,
    "start_time": "2024-07-25T12:37:24.080Z"
   },
   {
    "duration": 39,
    "start_time": "2024-07-25T12:37:24.090Z"
   },
   {
    "duration": 3,
    "start_time": "2024-07-25T12:37:24.131Z"
   },
   {
    "duration": 32,
    "start_time": "2024-07-25T12:37:24.135Z"
   },
   {
    "duration": 13,
    "start_time": "2024-07-25T12:37:24.169Z"
   },
   {
    "duration": 14,
    "start_time": "2024-07-25T12:37:24.183Z"
   },
   {
    "duration": 12,
    "start_time": "2024-07-25T12:37:24.199Z"
   },
   {
    "duration": 40,
    "start_time": "2024-07-25T12:37:24.212Z"
   },
   {
    "duration": 10,
    "start_time": "2024-07-25T12:37:24.254Z"
   },
   {
    "duration": 6,
    "start_time": "2024-07-25T12:37:24.265Z"
   },
   {
    "duration": 33,
    "start_time": "2024-07-25T12:37:24.272Z"
   },
   {
    "duration": 38,
    "start_time": "2024-07-25T12:37:24.306Z"
   },
   {
    "duration": 19,
    "start_time": "2024-07-25T12:37:24.345Z"
   },
   {
    "duration": 3,
    "start_time": "2024-07-25T12:37:24.366Z"
   },
   {
    "duration": 15,
    "start_time": "2024-07-25T12:37:24.370Z"
   },
   {
    "duration": 6,
    "start_time": "2024-07-25T12:37:24.386Z"
   },
   {
    "duration": 40,
    "start_time": "2024-07-25T12:37:24.393Z"
   },
   {
    "duration": 23,
    "start_time": "2024-07-25T12:37:24.434Z"
   },
   {
    "duration": 6,
    "start_time": "2024-07-25T12:37:24.459Z"
   },
   {
    "duration": 20,
    "start_time": "2024-07-25T12:37:24.466Z"
   },
   {
    "duration": 23,
    "start_time": "2024-07-25T12:37:24.487Z"
   },
   {
    "duration": 26,
    "start_time": "2024-07-25T12:37:24.511Z"
   },
   {
    "duration": 22,
    "start_time": "2024-07-25T12:37:24.538Z"
   },
   {
    "duration": 51,
    "start_time": "2024-07-25T12:37:24.562Z"
   },
   {
    "duration": 25,
    "start_time": "2024-07-25T12:37:24.615Z"
   },
   {
    "duration": 12,
    "start_time": "2024-07-25T12:37:24.642Z"
   },
   {
    "duration": 33,
    "start_time": "2024-07-25T12:37:24.655Z"
   },
   {
    "duration": 6,
    "start_time": "2024-07-25T12:37:24.689Z"
   },
   {
    "duration": 33,
    "start_time": "2024-07-25T12:37:24.696Z"
   },
   {
    "duration": 22,
    "start_time": "2024-07-25T12:37:24.730Z"
   },
   {
    "duration": 24,
    "start_time": "2024-07-25T12:37:24.753Z"
   },
   {
    "duration": 30,
    "start_time": "2024-07-25T12:37:24.778Z"
   }
  ],
  "colab": {
   "name": "dpp_template_part2.ipynb",
   "provenance": []
  },
  "kernelspec": {
   "display_name": "Python 3 (ipykernel)",
   "language": "python",
   "name": "python3"
  },
  "language_info": {
   "codemirror_mode": {
    "name": "ipython",
    "version": 3
   },
   "file_extension": ".py",
   "mimetype": "text/x-python",
   "name": "python",
   "nbconvert_exporter": "python",
   "pygments_lexer": "ipython3",
   "version": "3.9.5"
  },
  "toc": {
   "base_numbering": 1,
   "nav_menu": {},
   "number_sections": true,
   "sideBar": true,
   "skip_h1_title": true,
   "title_cell": "Table of Contents",
   "title_sidebar": "Contents",
   "toc_cell": false,
   "toc_position": {},
   "toc_section_display": true,
   "toc_window_display": false
  }
 },
 "nbformat": 4,
 "nbformat_minor": 5
}
